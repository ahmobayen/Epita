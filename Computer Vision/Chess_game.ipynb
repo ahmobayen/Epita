{
 "cells": [
  {
   "cell_type": "markdown",
   "source": [
    "# Team Members:\n",
    "- Amirhossein Mobayen\n",
    "\n",
    "## Topic:\n",
    "AI Chess Master"
   ],
   "metadata": {
    "collapsed": false
   }
  },
  {
   "cell_type": "markdown",
   "source": [
    "# Objective:\n",
    "Build a Vision AI which understands a position by looking at the board!"
   ],
   "metadata": {
    "collapsed": false
   }
  },
  {
   "cell_type": "code",
   "execution_count": null,
   "metadata": {
    "collapsed": true
   },
   "outputs": [],
   "source": [
    "import numpy as np\n",
    "import tensorflow as tf\n",
    "from tensorflow.keras.optimizers import SGD\n",
    "from tensorflow_datasets.image_classification.colorectal_histology_test import num_classes\n",
    "\n",
    "from sklearn.model_selection import train_test_split"
   ]
  },
  {
   "cell_type": "markdown",
   "source": [
    "# Step 1: Dataset Preparation\n"
   ],
   "metadata": {
    "collapsed": false
   }
  },
  {
   "cell_type": "code",
   "execution_count": null,
   "outputs": [],
   "source": [
    "# Download the dataset from Kaggle and extract the relevant files.\n",
    "# URL: https://www.kaggle.com/koryakinp/chess-positions\n",
    "\n",
    "# Define the input image size for the model\n",
    "img_height, img_width = 224, 224\n",
    "batch_size = 32\n",
    "\n",
    "# Define the path to the dataset directory\n",
    "dataset_dir = './data/dataset/'"
   ],
   "metadata": {
    "collapsed": false
   }
  },
  {
   "cell_type": "markdown",
   "source": [
    "# Step 2: Data Preprocessing"
   ],
   "metadata": {
    "collapsed": false
   }
  },
  {
   "cell_type": "code",
   "execution_count": null,
   "outputs": [],
   "source": [
    "# Standard sizing.\n",
    "# To change if needed depending on model input.\n",
    "\n",
    "train_ds = tf.keras.utils.image_dataset_from_directory(\n",
    "  dataset_dir,\n",
    "  seed=123,\n",
    "    color_mode= 'rgb',\n",
    "  image_size=(img_height, img_width),\n",
    "  batch_size=batch_size)"
   ],
   "metadata": {
    "collapsed": false
   }
  },
  {
   "cell_type": "code",
   "execution_count": null,
   "outputs": [],
   "source": [
    "validation_split_size = 600\n",
    "\n",
    "# Split the train_ds dataset into training and validation sets\n",
    "val_ds = train_ds.take(validation_split_size)\n",
    "train_ds = train_ds.skip(validation_split_size)\n",
    "\n",
    "# Print the number of samples in each dataset\n",
    "print(\"Number of samples in train_ds:\", tf.data.experimental.cardinality(train_ds).numpy())\n",
    "print(\"Number of samples in val_ds:\", tf.data.experimental.cardinality(val_ds).numpy())\n"
   ],
   "metadata": {
    "collapsed": false
   }
  },
  {
   "cell_type": "markdown",
   "source": [
    "# Step 3: Model Selection and Architecture"
   ],
   "metadata": {
    "collapsed": false
   }
  },
  {
   "cell_type": "code",
   "execution_count": null,
   "outputs": [],
   "source": [
    "model = tf.keras.models.Sequential([\n",
    "    # Add your layers here\n",
    "    # For example:\n",
    "    tf.keras.layers.Conv2D(32, (3, 3), activation='relu', input_shape=(img_width, img_height, 3)),\n",
    "    tf.keras.layers.MaxPooling2D(2, 2),\n",
    "    tf.keras.layers.Flatten(),\n",
    "    tf.keras.layers.Dense(64, activation='relu'),\n",
    "    tf.keras.layers.Dense(1, activation='softmax')  # Adjust num_classes based on your dataset\n",
    "])\n",
    "\n",
    "model.summary()"
   ],
   "metadata": {
    "collapsed": false
   }
  },
  {
   "cell_type": "markdown",
   "source": [
    "# Step 4: Model Training"
   ],
   "metadata": {
    "collapsed": false
   }
  },
  {
   "cell_type": "code",
   "execution_count": null,
   "outputs": [],
   "source": [
    "# Assuming you have a separate validation dataset called val_ds\n",
    "model.compile(optimizer=SGD(lr=0.001, momentum=0.9), loss='categorical_crossentropy', metrics=['accuracy'])\n",
    "\n",
    "model.fit(train_ds, batch_size=32, epochs=10, validation_data=val_ds)\n"
   ],
   "metadata": {
    "collapsed": false
   }
  },
  {
   "cell_type": "markdown",
   "source": [
    "# Step 5: Model Evaluation"
   ],
   "metadata": {
    "collapsed": false
   }
  },
  {
   "cell_type": "code",
   "execution_count": null,
   "outputs": [],
   "source": [
    "# Evaluate the model on the testing dataset\n",
    "test_loss, test_accuracy = model.evaluate(test_images, test_labels)"
   ],
   "metadata": {
    "collapsed": false
   }
  },
  {
   "cell_type": "markdown",
   "source": [
    "# Step 6: Model Deployment"
   ],
   "metadata": {
    "collapsed": false
   }
  },
  {
   "cell_type": "code",
   "execution_count": null,
   "outputs": [],
   "source": [
    "# Save the trained model weights for future use\n",
    "model.save('chessboard_model.h5')\n",
    "\n",
    "# Load the saved model\n",
    "loaded_model = tf.keras.models.load_model('chessboard_model.h5')\n",
    "\n",
    "# Preprocess a chessboard image and make predictions\n",
    "image_path = 'path/to/chessboard_image.jpg'\n",
    "preprocessed_image = preprocess_image(image_path)\n",
    "preprocessed_image = np.expand_dims(preprocessed_image, axis=0)\n",
    "predictions = loaded_model.predict(preprocessed_image)"
   ],
   "metadata": {
    "collapsed": false
   }
  },
  {
   "cell_type": "code",
   "execution_count": null,
   "outputs": [],
   "source": [
    "# Convert predictions to FEN format\n",
    "def convert_predictions_to_fen(predictions):\n",
    "    # Implement your conversion logic here\n",
    "    return 'FEN position'"
   ],
   "metadata": {
    "collapsed": false
   }
  },
  {
   "cell_type": "code",
   "execution_count": null,
   "outputs": [],
   "source": [
    "# Convert predictions to FEN format\n",
    "predicted_position = convert_predictions_to_fen(predictions)\n",
    "\n",
    "# Print the predicted position\n",
    "print(predicted_position)"
   ],
   "metadata": {
    "collapsed": false
   }
  }
 ],
 "metadata": {
  "kernelspec": {
   "display_name": "Python 3",
   "language": "python",
   "name": "python3"
  },
  "language_info": {
   "codemirror_mode": {
    "name": "ipython",
    "version": 2
   },
   "file_extension": ".py",
   "mimetype": "text/x-python",
   "name": "python",
   "nbconvert_exporter": "python",
   "pygments_lexer": "ipython2",
   "version": "2.7.6"
  }
 },
 "nbformat": 4,
 "nbformat_minor": 0
}
