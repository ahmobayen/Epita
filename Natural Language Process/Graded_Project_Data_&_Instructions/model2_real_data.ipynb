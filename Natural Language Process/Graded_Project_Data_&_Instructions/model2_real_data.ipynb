{
 "cells": [
  {
   "cell_type": "markdown",
   "source": [
    "# Team Members:\n",
    "- Amir Mobayen\n",
    "- Leelav Kareem\n",
    "- Nikita Chistyakov\n",
    "\n",
    "## Topic:\n",
    "A Recurrent Neural Network, based on LSTM or GRU"
   ],
   "metadata": {
    "collapsed": false
   }
  },
  {
   "cell_type": "markdown",
   "source": [
    "## Libraries"
   ],
   "metadata": {
    "collapsed": false
   }
  },
  {
   "cell_type": "code",
   "execution_count": 45,
   "outputs": [],
   "source": [
    "# Basic packages\n",
    "import numpy as np\n",
    "import pandas as pd\n",
    "\n",
    "# Plots\n",
    "import matplotlib.pyplot as plt\n",
    "\n",
    "# Tensorflow\n",
    "import tensorflow as tf\n",
    "from tensorflow.keras.preprocessing.text import Tokenizer\n",
    "from tensorflow.keras.utils import pad_sequences\n",
    "\n",
    "# Sklearn\n",
    "from sklearn.preprocessing import LabelEncoder\n",
    "from sklearn.model_selection import train_test_split\n",
    "from sklearn.metrics import mean_squared_error, mean_absolute_error, r2_score\n",
    "\n",
    "tf.get_logger().setLevel('ERROR')\n"
   ],
   "metadata": {
    "collapsed": false,
    "ExecuteTime": {
     "end_time": "2023-07-23T08:37:39.626730544Z",
     "start_time": "2023-07-23T08:37:39.601466962Z"
    }
   }
  },
  {
   "cell_type": "markdown",
   "source": [
    "# About the dataset:\n",
    "List of tweet texts with emotion labels like joy, sadness, fear, anger…\n",
    "Dataset is split into train, test and validation sets for building the machine learning model. At first, you are\n",
    "given only train and test sets. The validation one will be given in the end of the project for you to check\n",
    "the final performance of your algorithm (to make sure there is no overfitting over the test data).\n",
    "You can work on this project on group of one, two or three students. This exercise is mandatory, not\n",
    "giving it back is equivalent to getting to lowest grade"
   ],
   "metadata": {
    "collapsed": false
   }
  },
  {
   "cell_type": "markdown",
   "source": [
    "# Goal:\n",
    "- Train different kind of models able to classify each text according to the sentiment mainly present\n",
    "in it\n",
    "- Compare the results of your different models and try to analyze and explain the differences"
   ],
   "metadata": {
    "collapsed": false
   }
  },
  {
   "cell_type": "markdown",
   "source": [
    "# Parameters"
   ],
   "metadata": {
    "collapsed": false
   }
  },
  {
   "cell_type": "code",
   "execution_count": 46,
   "outputs": [],
   "source": [
    "data_file = './NLP_exam_real_case_dataset/train.csv'\n",
    "test_flie = './NLP_exam_real_case_dataset/test.csv'"
   ],
   "metadata": {
    "collapsed": false,
    "ExecuteTime": {
     "end_time": "2023-07-23T08:37:39.629459003Z",
     "start_time": "2023-07-23T08:37:39.606822166Z"
    }
   }
  },
  {
   "cell_type": "markdown",
   "source": [
    "# Preparing Dataset"
   ],
   "metadata": {
    "collapsed": false
   }
  },
  {
   "cell_type": "code",
   "execution_count": 47,
   "outputs": [
    {
     "data": {
      "text/plain": "(   Unnamed: 0                                      article_title  is_ecology\n 0        1079  Stations essence à Rochefort-en-Terre : les me...           0\n 1        1515  À Brest, le chantier de La Boussole se fait at...           0\n 2          51  Météorite en Normandie : à la recherche de pré...           0\n 3        1419  Résultats trimestriels mitigés pour les géants...           0\n 4        2181  Opinion | Sobriété énergétique : les solutions...           1,\n    Unnamed: 0                                      article_title  is_ecology\n 0          56  Plan de sortie de flotte: seules sept demandes...           0\n 1         279  Agressé, l’agriculteur Paul François, figure d...           1\n 2           1  Stations essence à La Bouillie : les meilleurs...           0\n 3         213  Accord sur le partage de la valeur: le Medef n...           0\n 4         282  ZFE et et transports en commun : bus et cars d...           1)"
     },
     "execution_count": 47,
     "metadata": {},
     "output_type": "execute_result"
    }
   ],
   "source": [
    "train_data = pd.read_csv(data_file, delimiter=',', header=0)\n",
    "test_data = pd.read_csv(test_flie, delimiter=',', header=0)\n",
    "\n",
    "train_data.head(), test_data.head()"
   ],
   "metadata": {
    "collapsed": false,
    "ExecuteTime": {
     "end_time": "2023-07-23T08:37:39.663619889Z",
     "start_time": "2023-07-23T08:37:39.612164464Z"
    }
   }
  },
  {
   "cell_type": "code",
   "execution_count": 48,
   "outputs": [
    {
     "name": "stdout",
     "output_type": "stream",
     "text": [
      "<class 'pandas.core.frame.DataFrame'>\n",
      "RangeIndex: 2215 entries, 0 to 2214\n",
      "Data columns (total 2 columns):\n",
      " #   Column         Non-Null Count  Dtype \n",
      "---  ------         --------------  ----- \n",
      " 0   article_title  2215 non-null   object\n",
      " 1   is_ecology     2215 non-null   int64 \n",
      "dtypes: int64(1), object(1)\n",
      "memory usage: 34.7+ KB\n",
      "<class 'pandas.core.frame.DataFrame'>\n",
      "RangeIndex: 294 entries, 0 to 293\n",
      "Data columns (total 2 columns):\n",
      " #   Column         Non-Null Count  Dtype \n",
      "---  ------         --------------  ----- \n",
      " 0   article_title  294 non-null    object\n",
      " 1   is_ecology     294 non-null    int64 \n",
      "dtypes: int64(1), object(1)\n",
      "memory usage: 4.7+ KB\n"
     ]
    },
    {
     "data": {
      "text/plain": "(None, None)"
     },
     "execution_count": 48,
     "metadata": {},
     "output_type": "execute_result"
    }
   ],
   "source": [
    "train_data = train_data.iloc[:, 1:]\n",
    "test_data = test_data.iloc[:, 1:]\n",
    "train_data.info(), test_data.info()"
   ],
   "metadata": {
    "collapsed": false,
    "ExecuteTime": {
     "end_time": "2023-07-23T08:37:39.676539552Z",
     "start_time": "2023-07-23T08:37:39.629264466Z"
    }
   }
  },
  {
   "cell_type": "code",
   "execution_count": 49,
   "outputs": [],
   "source": [
    "def tokenizer(text, max_len=None):\n",
    "    tokenizer = Tokenizer()\n",
    "    tokenizer.fit_on_texts(text)\n",
    "    sequences = tokenizer.texts_to_sequences(text)\n",
    "    vocab_size = len(tokenizer.word_index) + 1\n",
    "    if not max_len:\n",
    "        max_len = max([len(seq) for seq in sequences])\n",
    "    return pad_sequences(sequences, maxlen=max_len, padding='post'), max_len, vocab_size"
   ],
   "metadata": {
    "collapsed": false,
    "ExecuteTime": {
     "end_time": "2023-07-23T08:37:39.676732005Z",
     "start_time": "2023-07-23T08:37:39.673504819Z"
    }
   }
  },
  {
   "cell_type": "code",
   "execution_count": 50,
   "outputs": [],
   "source": [
    "train_x, max_len, vocab_size = tokenizer(train_data.iloc[:, 0])\n",
    "test_x, _, _ = tokenizer(test_data.iloc[:, 0], max_len)"
   ],
   "metadata": {
    "collapsed": false,
    "ExecuteTime": {
     "end_time": "2023-07-23T08:37:39.719264303Z",
     "start_time": "2023-07-23T08:37:39.673801067Z"
    }
   }
  },
  {
   "cell_type": "code",
   "execution_count": 51,
   "outputs": [],
   "source": [
    "label_encoder = LabelEncoder()\n",
    "train_y = label_encoder.fit_transform(train_data.iloc[:, 1])\n",
    "test_y = label_encoder.transform(test_data.iloc[:, 1])"
   ],
   "metadata": {
    "collapsed": false,
    "ExecuteTime": {
     "end_time": "2023-07-23T08:37:39.753427629Z",
     "start_time": "2023-07-23T08:37:39.705508581Z"
    }
   }
  },
  {
   "cell_type": "markdown",
   "source": [
    "# Model"
   ],
   "metadata": {
    "collapsed": false
   }
  },
  {
   "cell_type": "code",
   "execution_count": 52,
   "outputs": [
    {
     "name": "stdout",
     "output_type": "stream",
     "text": [
      "Model: \"sequential\"\n",
      "_________________________________________________________________\n",
      " Layer (type)                Output Shape              Param #   \n",
      "=================================================================\n",
      " embedding (Embedding)       (None, 37, 100)           765500    \n",
      "                                                                 \n",
      " conv1d (Conv1D)             (None, 33, 64)            32064     \n",
      "                                                                 \n",
      " max_pooling1d (MaxPooling1D  (None, 8, 64)            0         \n",
      " )                                                               \n",
      "                                                                 \n",
      " bidirectional (Bidirectiona  (None, 64)               24832     \n",
      " l)                                                              \n",
      "                                                                 \n",
      " dense (Dense)               (None, 32)                2080      \n",
      "                                                                 \n",
      " dropout (Dropout)           (None, 32)                0         \n",
      "                                                                 \n",
      " dense_1 (Dense)             (None, 1)                 33        \n",
      "                                                                 \n",
      "=================================================================\n",
      "Total params: 824,509\n",
      "Trainable params: 824,509\n",
      "Non-trainable params: 0\n",
      "_________________________________________________________________\n"
     ]
    },
    {
     "name": "stderr",
     "output_type": "stream",
     "text": [
      "2023-07-23 10:37:40.311838: I tensorflow/core/common_runtime/executor.cc:1197] [/device:CPU:0] (DEBUG INFO) Executor start aborting (this does not indicate an error and you can ignore this message): INVALID_ARGUMENT: You must feed a value for placeholder tensor 'gradients/split_2_grad/concat/split_2/split_dim' with dtype int32\n",
      "\t [[{{node gradients/split_2_grad/concat/split_2/split_dim}}]]\n",
      "2023-07-23 10:37:40.322025: I tensorflow/core/common_runtime/executor.cc:1197] [/device:CPU:0] (DEBUG INFO) Executor start aborting (this does not indicate an error and you can ignore this message): INVALID_ARGUMENT: You must feed a value for placeholder tensor 'gradients/split_grad/concat/split/split_dim' with dtype int32\n",
      "\t [[{{node gradients/split_grad/concat/split/split_dim}}]]\n",
      "2023-07-23 10:37:40.323479: I tensorflow/core/common_runtime/executor.cc:1197] [/device:CPU:0] (DEBUG INFO) Executor start aborting (this does not indicate an error and you can ignore this message): INVALID_ARGUMENT: You must feed a value for placeholder tensor 'gradients/split_1_grad/concat/split_1/split_dim' with dtype int32\n",
      "\t [[{{node gradients/split_1_grad/concat/split_1/split_dim}}]]\n",
      "2023-07-23 10:37:40.418641: I tensorflow/core/common_runtime/executor.cc:1197] [/device:CPU:0] (DEBUG INFO) Executor start aborting (this does not indicate an error and you can ignore this message): INVALID_ARGUMENT: You must feed a value for placeholder tensor 'gradients/ReverseV2_grad/ReverseV2/ReverseV2/axis' with dtype int32 and shape [1]\n",
      "\t [[{{node gradients/ReverseV2_grad/ReverseV2/ReverseV2/axis}}]]\n",
      "2023-07-23 10:37:40.443771: I tensorflow/core/common_runtime/executor.cc:1197] [/device:CPU:0] (DEBUG INFO) Executor start aborting (this does not indicate an error and you can ignore this message): INVALID_ARGUMENT: You must feed a value for placeholder tensor 'gradients/split_2_grad/concat/split_2/split_dim' with dtype int32\n",
      "\t [[{{node gradients/split_2_grad/concat/split_2/split_dim}}]]\n",
      "2023-07-23 10:37:40.444461: I tensorflow/core/common_runtime/executor.cc:1197] [/device:CPU:0] (DEBUG INFO) Executor start aborting (this does not indicate an error and you can ignore this message): INVALID_ARGUMENT: You must feed a value for placeholder tensor 'gradients/split_grad/concat/split/split_dim' with dtype int32\n",
      "\t [[{{node gradients/split_grad/concat/split/split_dim}}]]\n",
      "2023-07-23 10:37:40.445053: I tensorflow/core/common_runtime/executor.cc:1197] [/device:CPU:0] (DEBUG INFO) Executor start aborting (this does not indicate an error and you can ignore this message): INVALID_ARGUMENT: You must feed a value for placeholder tensor 'gradients/split_1_grad/concat/split_1/split_dim' with dtype int32\n",
      "\t [[{{node gradients/split_1_grad/concat/split_1/split_dim}}]]\n"
     ]
    }
   ],
   "source": [
    "# Define the model\n",
    "model = tf.keras.models.Sequential()\n",
    "model.add(tf.keras.layers.Embedding(vocab_size, 100, input_length=max_len))\n",
    "model.add(tf.keras.layers.Conv1D(64, 5, activation='leaky_relu'))\n",
    "model.add(tf.keras.layers.MaxPooling1D(pool_size=4))\n",
    "model.add(tf.keras.layers.Bidirectional(tf.keras.layers.LSTM(32)))\n",
    "model.add(tf.keras.layers.Dense(32, activation='leaky_relu'))\n",
    "model.add(tf.keras.layers.Dropout(0.2))\n",
    "model.add(tf.keras.layers.Dense(1, activation='sigmoid'))\n",
    "\n",
    "model.summary()"
   ],
   "metadata": {
    "collapsed": false,
    "ExecuteTime": {
     "end_time": "2023-07-23T08:37:40.513880518Z",
     "start_time": "2023-07-23T08:37:39.753796222Z"
    }
   }
  },
  {
   "cell_type": "code",
   "execution_count": 53,
   "outputs": [
    {
     "name": "stdout",
     "output_type": "stream",
     "text": [
      "Epoch 1/100\n"
     ]
    },
    {
     "name": "stderr",
     "output_type": "stream",
     "text": [
      "2023-07-23 10:37:40.722243: I tensorflow/core/common_runtime/executor.cc:1197] [/device:CPU:0] (DEBUG INFO) Executor start aborting (this does not indicate an error and you can ignore this message): INVALID_ARGUMENT: You must feed a value for placeholder tensor 'gradients/split_2_grad/concat/split_2/split_dim' with dtype int32\n",
      "\t [[{{node gradients/split_2_grad/concat/split_2/split_dim}}]]\n",
      "2023-07-23 10:37:40.723677: I tensorflow/core/common_runtime/executor.cc:1197] [/device:CPU:0] (DEBUG INFO) Executor start aborting (this does not indicate an error and you can ignore this message): INVALID_ARGUMENT: You must feed a value for placeholder tensor 'gradients/split_grad/concat/split/split_dim' with dtype int32\n",
      "\t [[{{node gradients/split_grad/concat/split/split_dim}}]]\n",
      "2023-07-23 10:37:40.724757: I tensorflow/core/common_runtime/executor.cc:1197] [/device:CPU:0] (DEBUG INFO) Executor start aborting (this does not indicate an error and you can ignore this message): INVALID_ARGUMENT: You must feed a value for placeholder tensor 'gradients/split_1_grad/concat/split_1/split_dim' with dtype int32\n",
      "\t [[{{node gradients/split_1_grad/concat/split_1/split_dim}}]]\n",
      "2023-07-23 10:37:40.839150: I tensorflow/core/common_runtime/executor.cc:1197] [/device:CPU:0] (DEBUG INFO) Executor start aborting (this does not indicate an error and you can ignore this message): INVALID_ARGUMENT: You must feed a value for placeholder tensor 'gradients/ReverseV2_grad/ReverseV2/ReverseV2/axis' with dtype int32 and shape [1]\n",
      "\t [[{{node gradients/ReverseV2_grad/ReverseV2/ReverseV2/axis}}]]\n",
      "2023-07-23 10:37:40.885874: I tensorflow/core/common_runtime/executor.cc:1197] [/device:CPU:0] (DEBUG INFO) Executor start aborting (this does not indicate an error and you can ignore this message): INVALID_ARGUMENT: You must feed a value for placeholder tensor 'gradients/split_2_grad/concat/split_2/split_dim' with dtype int32\n",
      "\t [[{{node gradients/split_2_grad/concat/split_2/split_dim}}]]\n",
      "2023-07-23 10:37:40.886943: I tensorflow/core/common_runtime/executor.cc:1197] [/device:CPU:0] (DEBUG INFO) Executor start aborting (this does not indicate an error and you can ignore this message): INVALID_ARGUMENT: You must feed a value for placeholder tensor 'gradients/split_grad/concat/split/split_dim' with dtype int32\n",
      "\t [[{{node gradients/split_grad/concat/split/split_dim}}]]\n",
      "2023-07-23 10:37:40.887883: I tensorflow/core/common_runtime/executor.cc:1197] [/device:CPU:0] (DEBUG INFO) Executor start aborting (this does not indicate an error and you can ignore this message): INVALID_ARGUMENT: You must feed a value for placeholder tensor 'gradients/split_1_grad/concat/split_1/split_dim' with dtype int32\n",
      "\t [[{{node gradients/split_1_grad/concat/split_1/split_dim}}]]\n",
      "2023-07-23 10:37:41.237259: I tensorflow/core/common_runtime/executor.cc:1197] [/device:CPU:0] (DEBUG INFO) Executor start aborting (this does not indicate an error and you can ignore this message): INVALID_ARGUMENT: You must feed a value for placeholder tensor 'gradients/ReverseV2_grad/ReverseV2/ReverseV2/axis' with dtype int32 and shape [1]\n",
      "\t [[{{node gradients/ReverseV2_grad/ReverseV2/ReverseV2/axis}}]]\n",
      "2023-07-23 10:37:41.649266: I tensorflow/core/common_runtime/executor.cc:1197] [/device:CPU:0] (DEBUG INFO) Executor start aborting (this does not indicate an error and you can ignore this message): INVALID_ARGUMENT: You must feed a value for placeholder tensor 'gradients/split_2_grad/concat/split_2/split_dim' with dtype int32\n",
      "\t [[{{node gradients/split_2_grad/concat/split_2/split_dim}}]]\n",
      "2023-07-23 10:37:41.650798: I tensorflow/core/common_runtime/executor.cc:1197] [/device:CPU:0] (DEBUG INFO) Executor start aborting (this does not indicate an error and you can ignore this message): INVALID_ARGUMENT: You must feed a value for placeholder tensor 'gradients/split_grad/concat/split/split_dim' with dtype int32\n",
      "\t [[{{node gradients/split_grad/concat/split/split_dim}}]]\n",
      "2023-07-23 10:37:41.651998: I tensorflow/core/common_runtime/executor.cc:1197] [/device:CPU:0] (DEBUG INFO) Executor start aborting (this does not indicate an error and you can ignore this message): INVALID_ARGUMENT: You must feed a value for placeholder tensor 'gradients/split_1_grad/concat/split_1/split_dim' with dtype int32\n",
      "\t [[{{node gradients/split_1_grad/concat/split_1/split_dim}}]]\n",
      "2023-07-23 10:37:41.794291: I tensorflow/core/common_runtime/executor.cc:1197] [/device:CPU:0] (DEBUG INFO) Executor start aborting (this does not indicate an error and you can ignore this message): INVALID_ARGUMENT: You must feed a value for placeholder tensor 'gradients/ReverseV2_grad/ReverseV2/ReverseV2/axis' with dtype int32 and shape [1]\n",
      "\t [[{{node gradients/ReverseV2_grad/ReverseV2/ReverseV2/axis}}]]\n",
      "2023-07-23 10:37:41.856365: I tensorflow/core/common_runtime/executor.cc:1197] [/device:CPU:0] (DEBUG INFO) Executor start aborting (this does not indicate an error and you can ignore this message): INVALID_ARGUMENT: You must feed a value for placeholder tensor 'gradients/split_2_grad/concat/split_2/split_dim' with dtype int32\n",
      "\t [[{{node gradients/split_2_grad/concat/split_2/split_dim}}]]\n",
      "2023-07-23 10:37:41.857853: I tensorflow/core/common_runtime/executor.cc:1197] [/device:CPU:0] (DEBUG INFO) Executor start aborting (this does not indicate an error and you can ignore this message): INVALID_ARGUMENT: You must feed a value for placeholder tensor 'gradients/split_grad/concat/split/split_dim' with dtype int32\n",
      "\t [[{{node gradients/split_grad/concat/split/split_dim}}]]\n",
      "2023-07-23 10:37:41.858933: I tensorflow/core/common_runtime/executor.cc:1197] [/device:CPU:0] (DEBUG INFO) Executor start aborting (this does not indicate an error and you can ignore this message): INVALID_ARGUMENT: You must feed a value for placeholder tensor 'gradients/split_1_grad/concat/split_1/split_dim' with dtype int32\n",
      "\t [[{{node gradients/split_1_grad/concat/split_1/split_dim}}]]\n",
      "2023-07-23 10:37:42.207740: I tensorflow/core/common_runtime/executor.cc:1197] [/device:CPU:0] (DEBUG INFO) Executor start aborting (this does not indicate an error and you can ignore this message): INVALID_ARGUMENT: You must feed a value for placeholder tensor 'gradients/ReverseV2_grad/ReverseV2/ReverseV2/axis' with dtype int32 and shape [1]\n",
      "\t [[{{node gradients/ReverseV2_grad/ReverseV2/ReverseV2/axis}}]]\n"
     ]
    },
    {
     "name": "stdout",
     "output_type": "stream",
     "text": [
      "272/277 [============================>.] - ETA: 0s - loss: 0.1319 - accuracy: 0.9770"
     ]
    },
    {
     "name": "stderr",
     "output_type": "stream",
     "text": [
      "2023-07-23 10:37:45.347042: I tensorflow/core/common_runtime/executor.cc:1197] [/device:CPU:0] (DEBUG INFO) Executor start aborting (this does not indicate an error and you can ignore this message): INVALID_ARGUMENT: You must feed a value for placeholder tensor 'gradients/split_2_grad/concat/split_2/split_dim' with dtype int32\n",
      "\t [[{{node gradients/split_2_grad/concat/split_2/split_dim}}]]\n",
      "2023-07-23 10:37:45.348377: I tensorflow/core/common_runtime/executor.cc:1197] [/device:CPU:0] (DEBUG INFO) Executor start aborting (this does not indicate an error and you can ignore this message): INVALID_ARGUMENT: You must feed a value for placeholder tensor 'gradients/split_grad/concat/split/split_dim' with dtype int32\n",
      "\t [[{{node gradients/split_grad/concat/split/split_dim}}]]\n",
      "2023-07-23 10:37:45.349476: I tensorflow/core/common_runtime/executor.cc:1197] [/device:CPU:0] (DEBUG INFO) Executor start aborting (this does not indicate an error and you can ignore this message): INVALID_ARGUMENT: You must feed a value for placeholder tensor 'gradients/split_1_grad/concat/split_1/split_dim' with dtype int32\n",
      "\t [[{{node gradients/split_1_grad/concat/split_1/split_dim}}]]\n",
      "2023-07-23 10:37:45.441750: I tensorflow/core/common_runtime/executor.cc:1197] [/device:CPU:0] (DEBUG INFO) Executor start aborting (this does not indicate an error and you can ignore this message): INVALID_ARGUMENT: You must feed a value for placeholder tensor 'gradients/ReverseV2_grad/ReverseV2/ReverseV2/axis' with dtype int32 and shape [1]\n",
      "\t [[{{node gradients/ReverseV2_grad/ReverseV2/ReverseV2/axis}}]]\n",
      "2023-07-23 10:37:45.485533: I tensorflow/core/common_runtime/executor.cc:1197] [/device:CPU:0] (DEBUG INFO) Executor start aborting (this does not indicate an error and you can ignore this message): INVALID_ARGUMENT: You must feed a value for placeholder tensor 'gradients/split_2_grad/concat/split_2/split_dim' with dtype int32\n",
      "\t [[{{node gradients/split_2_grad/concat/split_2/split_dim}}]]\n",
      "2023-07-23 10:37:45.486545: I tensorflow/core/common_runtime/executor.cc:1197] [/device:CPU:0] (DEBUG INFO) Executor start aborting (this does not indicate an error and you can ignore this message): INVALID_ARGUMENT: You must feed a value for placeholder tensor 'gradients/split_grad/concat/split/split_dim' with dtype int32\n",
      "\t [[{{node gradients/split_grad/concat/split/split_dim}}]]\n",
      "2023-07-23 10:37:45.487535: I tensorflow/core/common_runtime/executor.cc:1197] [/device:CPU:0] (DEBUG INFO) Executor start aborting (this does not indicate an error and you can ignore this message): INVALID_ARGUMENT: You must feed a value for placeholder tensor 'gradients/split_1_grad/concat/split_1/split_dim' with dtype int32\n",
      "\t [[{{node gradients/split_1_grad/concat/split_1/split_dim}}]]\n"
     ]
    },
    {
     "name": "stdout",
     "output_type": "stream",
     "text": [
      "277/277 [==============================] - 5s 10ms/step - loss: 0.1330 - accuracy: 0.9765 - val_loss: 0.5373 - val_accuracy: 0.8197\n",
      "Epoch 2/100\n",
      "277/277 [==============================] - 2s 9ms/step - loss: 0.0788 - accuracy: 0.9801 - val_loss: 1.1337 - val_accuracy: 0.8163\n",
      "Epoch 3/100\n",
      "277/277 [==============================] - 2s 8ms/step - loss: 0.0039 - accuracy: 0.9986 - val_loss: 1.7327 - val_accuracy: 0.8163\n",
      "Epoch 4/100\n",
      "277/277 [==============================] - 2s 8ms/step - loss: 1.8428e-04 - accuracy: 1.0000 - val_loss: 1.8855 - val_accuracy: 0.8163\n",
      "Epoch 5/100\n",
      "277/277 [==============================] - 2s 8ms/step - loss: 1.1570e-04 - accuracy: 1.0000 - val_loss: 1.9882 - val_accuracy: 0.8163\n",
      "Epoch 6/100\n",
      "277/277 [==============================] - 2s 9ms/step - loss: 5.3661e-05 - accuracy: 1.0000 - val_loss: 2.0622 - val_accuracy: 0.8163\n"
     ]
    }
   ],
   "source": [
    "tf.keras.backend.clear_session()\n",
    "\n",
    "early = tf.keras.callbacks.EarlyStopping(patience=5, restore_best_weights=True)\n",
    "\n",
    "model.compile(loss='binary_crossentropy', optimizer='adam', metrics=['accuracy'])\n",
    "history = model.fit(train_x, train_y,\n",
    "                    epochs=100,\n",
    "                    batch_size=8,\n",
    "                    validation_data=[test_x, test_y],\n",
    "                    # validation_split=0.2,\n",
    "                    callbacks=[early]\n",
    "                    )"
   ],
   "metadata": {
    "collapsed": false,
    "ExecuteTime": {
     "end_time": "2023-07-23T08:37:57.453541086Z",
     "start_time": "2023-07-23T08:37:40.513658541Z"
    }
   }
  },
  {
   "cell_type": "markdown",
   "source": [
    "# Evaluation"
   ],
   "metadata": {
    "collapsed": false
   }
  },
  {
   "cell_type": "code",
   "execution_count": 54,
   "outputs": [
    {
     "name": "stdout",
     "output_type": "stream",
     "text": [
      "10/10 [==============================] - 0s 2ms/step - loss: 0.5373 - accuracy: 0.8197\n",
      "Test Loss: 0.5372718572616577\n",
      "Test Accuracy: 0.819727897644043\n"
     ]
    }
   ],
   "source": [
    "loss, accuracy = model.evaluate(test_x, test_y)\n",
    "\n",
    "print('Test Loss:', loss)\n",
    "print('Test Accuracy:', accuracy)"
   ],
   "metadata": {
    "collapsed": false,
    "ExecuteTime": {
     "end_time": "2023-07-23T08:37:57.497689077Z",
     "start_time": "2023-07-23T08:37:57.453968316Z"
    }
   }
  },
  {
   "cell_type": "code",
   "execution_count": 55,
   "outputs": [
    {
     "data": {
      "text/plain": "<Figure size 1152x720 with 2 Axes>",
      "image/png": "[encoded data removed]"
     },
     "metadata": {
      "needs_background": "light"
     },
     "output_type": "display_data"
    }
   ],
   "source": [
    "def plot_results(history):\n",
    "    hist_df = pd.DataFrame(history.history)\n",
    "    hist_df.columns = [\"loss\", \"accuracy\", \"val_loss\", \"val_accuracy\"]\n",
    "    hist_df.index = np.arange(1, len(hist_df) + 1)\n",
    "\n",
    "    fig, axs = plt.subplots(nrows=2, sharex=True, figsize=(16, 10))\n",
    "    axs[0].plot(hist_df.val_accuracy, lw=3, label='Validation Accuracy')\n",
    "    axs[0].plot(hist_df.accuracy, lw=3, label='Training Accuracy')\n",
    "    axs[0].set_ylabel('Accuracy')\n",
    "    axs[0].set_xlabel('Epoch')\n",
    "    axs[0].grid()\n",
    "    axs[0].legend(loc=0)\n",
    "    axs[1].plot(hist_df.val_loss, lw=3, label='Validation Loss')\n",
    "    axs[1].plot(hist_df.loss, lw=3, label='Training Loss')\n",
    "    axs[1].set_ylabel('Loss')\n",
    "    axs[1].set_xlabel('Epoch')\n",
    "    axs[1].grid()\n",
    "    axs[1].legend(loc=0)\n",
    "\n",
    "    plt.show();\n",
    "\n",
    "\n",
    "plot_results(history)"
   ],
   "metadata": {
    "collapsed": false,
    "ExecuteTime": {
     "end_time": "2023-07-23T08:37:57.705835039Z",
     "start_time": "2023-07-23T08:37:57.497485696Z"
    }
   }
  },
  {
   "cell_type": "markdown",
   "source": [
    "# Sample Test"
   ],
   "metadata": {
    "collapsed": false
   }
  },
  {
   "cell_type": "code",
   "execution_count": 57,
   "outputs": [
    {
     "name": "stdout",
     "output_type": "stream",
     "text": [
      "1/1 [==============================] - 0s 11ms/step\n",
      "Predicted class vs True Class: [0, 0]\n",
      "1/1 [==============================] - 0s 12ms/step\n",
      "Predicted class vs True Class: [0, 1]\n",
      "1/1 [==============================] - 0s 12ms/step\n",
      "Predicted class vs True Class: [0, 0]\n",
      "1/1 [==============================] - 0s 13ms/step\n",
      "Predicted class vs True Class: [0, 0]\n",
      "1/1 [==============================] - 0s 16ms/step\n",
      "Predicted class vs True Class: [0, 1]\n",
      "1/1 [==============================] - 0s 12ms/step\n",
      "Predicted class vs True Class: [0, 0]\n",
      "1/1 [==============================] - 0s 13ms/step\n",
      "Predicted class vs True Class: [0, 0]\n",
      "1/1 [==============================] - 0s 13ms/step\n",
      "Predicted class vs True Class: [0, 1]\n",
      "1/1 [==============================] - 0s 13ms/step\n",
      "Predicted class vs True Class: [0, 0]\n",
      "1/1 [==============================] - 0s 12ms/step\n",
      "Predicted class vs True Class: [0, 1]\n",
      "1/1 [==============================] - 0s 13ms/step\n",
      "Predicted class vs True Class: [0, 1]\n",
      "1/1 [==============================] - 0s 15ms/step\n",
      "Predicted class vs True Class: [0, 0]\n",
      "1/1 [==============================] - 0s 13ms/step\n",
      "Predicted class vs True Class: [0, 0]\n",
      "1/1 [==============================] - 0s 16ms/step\n",
      "Predicted class vs True Class: [0, 0]\n",
      "1/1 [==============================] - 0s 15ms/step\n",
      "Predicted class vs True Class: [0, 0]\n",
      "1/1 [==============================] - 0s 12ms/step\n",
      "Predicted class vs True Class: [0, 0]\n",
      "1/1 [==============================] - 0s 12ms/step\n",
      "Predicted class vs True Class: [0, 0]\n",
      "1/1 [==============================] - 0s 11ms/step\n",
      "Predicted class vs True Class: [0, 0]\n",
      "1/1 [==============================] - 0s 12ms/step\n",
      "Predicted class vs True Class: [0, 0]\n",
      "1/1 [==============================] - 0s 13ms/step\n",
      "Predicted class vs True Class: [0, 0]\n",
      "1/1 [==============================] - 0s 13ms/step\n",
      "Predicted class vs True Class: [0, 0]\n",
      "1/1 [==============================] - 0s 13ms/step\n",
      "Predicted class vs True Class: [0, 0]\n",
      "1/1 [==============================] - 0s 12ms/step\n",
      "Predicted class vs True Class: [0, 0]\n",
      "1/1 [==============================] - 0s 13ms/step\n",
      "Predicted class vs True Class: [0, 0]\n",
      "1/1 [==============================] - 0s 16ms/step\n",
      "Predicted class vs True Class: [0, 0]\n",
      "1/1 [==============================] - 0s 13ms/step\n",
      "Predicted class vs True Class: [0, 0]\n",
      "1/1 [==============================] - 0s 14ms/step\n",
      "Predicted class vs True Class: [0, 0]\n",
      "1/1 [==============================] - 0s 12ms/step\n",
      "Predicted class vs True Class: [0, 0]\n",
      "1/1 [==============================] - 0s 13ms/step\n",
      "Predicted class vs True Class: [0, 0]\n",
      "1/1 [==============================] - 0s 13ms/step\n",
      "Predicted class vs True Class: [0, 0]\n",
      "1/1 [==============================] - 0s 13ms/step\n",
      "Predicted class vs True Class: [0, 0]\n",
      "1/1 [==============================] - 0s 13ms/step\n",
      "Predicted class vs True Class: [0, 0]\n",
      "1/1 [==============================] - 0s 13ms/step\n",
      "Predicted class vs True Class: [0, 0]\n",
      "1/1 [==============================] - 0s 18ms/step\n",
      "Predicted class vs True Class: [0, 0]\n",
      "1/1 [==============================] - 0s 13ms/step\n",
      "Predicted class vs True Class: [0, 0]\n",
      "1/1 [==============================] - 0s 13ms/step\n",
      "Predicted class vs True Class: [0, 0]\n",
      "1/1 [==============================] - 0s 13ms/step\n",
      "Predicted class vs True Class: [0, 0]\n",
      "1/1 [==============================] - 0s 14ms/step\n",
      "Predicted class vs True Class: [0, 0]\n",
      "1/1 [==============================] - 0s 18ms/step\n",
      "Predicted class vs True Class: [0, 0]\n",
      "1/1 [==============================] - 0s 11ms/step\n",
      "Predicted class vs True Class: [0, 1]\n",
      "1/1 [==============================] - 0s 12ms/step\n",
      "Predicted class vs True Class: [0, 1]\n",
      "1/1 [==============================] - 0s 12ms/step\n",
      "Predicted class vs True Class: [0, 1]\n",
      "1/1 [==============================] - 0s 15ms/step\n",
      "Predicted class vs True Class: [0, 0]\n",
      "1/1 [==============================] - 0s 12ms/step\n",
      "Predicted class vs True Class: [0, 0]\n",
      "1/1 [==============================] - 0s 13ms/step\n",
      "Predicted class vs True Class: [0, 0]\n",
      "1/1 [==============================] - 0s 18ms/step\n",
      "Predicted class vs True Class: [0, 0]\n",
      "1/1 [==============================] - 0s 12ms/step\n",
      "Predicted class vs True Class: [0, 1]\n",
      "1/1 [==============================] - 0s 13ms/step\n",
      "Predicted class vs True Class: [0, 1]\n",
      "1/1 [==============================] - 0s 12ms/step\n",
      "Predicted class vs True Class: [0, 1]\n",
      "1/1 [==============================] - 0s 12ms/step\n",
      "Predicted class vs True Class: [0, 0]\n",
      "1/1 [==============================] - 0s 14ms/step\n",
      "Predicted class vs True Class: [0, 0]\n",
      "1/1 [==============================] - 0s 15ms/step\n",
      "Predicted class vs True Class: [0, 1]\n",
      "1/1 [==============================] - 0s 12ms/step\n",
      "Predicted class vs True Class: [0, 0]\n",
      "1/1 [==============================] - 0s 12ms/step\n",
      "Predicted class vs True Class: [0, 0]\n",
      "1/1 [==============================] - 0s 15ms/step\n",
      "Predicted class vs True Class: [0, 0]\n",
      "1/1 [==============================] - 0s 13ms/step\n",
      "Predicted class vs True Class: [0, 0]\n",
      "1/1 [==============================] - 0s 15ms/step\n",
      "Predicted class vs True Class: [0, 0]\n",
      "1/1 [==============================] - 0s 15ms/step\n",
      "Predicted class vs True Class: [0, 0]\n",
      "1/1 [==============================] - 0s 15ms/step\n",
      "Predicted class vs True Class: [0, 0]\n",
      "1/1 [==============================] - 0s 12ms/step\n",
      "Predicted class vs True Class: [0, 1]\n",
      "1/1 [==============================] - 0s 12ms/step\n",
      "Predicted class vs True Class: [0, 0]\n",
      "1/1 [==============================] - 0s 12ms/step\n",
      "Predicted class vs True Class: [0, 0]\n",
      "1/1 [==============================] - 0s 12ms/step\n",
      "Predicted class vs True Class: [0, 0]\n",
      "1/1 [==============================] - 0s 12ms/step\n",
      "Predicted class vs True Class: [0, 0]\n",
      "1/1 [==============================] - 0s 16ms/step\n",
      "Predicted class vs True Class: [0, 0]\n",
      "1/1 [==============================] - 0s 12ms/step\n",
      "Predicted class vs True Class: [0, 0]\n",
      "1/1 [==============================] - 0s 15ms/step\n",
      "Predicted class vs True Class: [0, 0]\n",
      "1/1 [==============================] - 0s 15ms/step\n",
      "Predicted class vs True Class: [0, 0]\n",
      "1/1 [==============================] - 0s 15ms/step\n",
      "Predicted class vs True Class: [0, 0]\n",
      "1/1 [==============================] - 0s 12ms/step\n",
      "Predicted class vs True Class: [0, 0]\n",
      "1/1 [==============================] - 0s 12ms/step\n",
      "Predicted class vs True Class: [0, 0]\n",
      "1/1 [==============================] - 0s 12ms/step\n",
      "Predicted class vs True Class: [0, 0]\n",
      "1/1 [==============================] - 0s 12ms/step\n",
      "Predicted class vs True Class: [0, 1]\n",
      "1/1 [==============================] - 0s 15ms/step\n",
      "Predicted class vs True Class: [0, 0]\n",
      "1/1 [==============================] - 0s 12ms/step\n",
      "Predicted class vs True Class: [0, 0]\n",
      "1/1 [==============================] - 0s 13ms/step\n",
      "Predicted class vs True Class: [0, 1]\n",
      "1/1 [==============================] - 0s 12ms/step\n",
      "Predicted class vs True Class: [0, 0]\n",
      "1/1 [==============================] - 0s 13ms/step\n",
      "Predicted class vs True Class: [0, 0]\n",
      "1/1 [==============================] - 0s 15ms/step\n",
      "Predicted class vs True Class: [0, 0]\n",
      "1/1 [==============================] - 0s 12ms/step\n",
      "Predicted class vs True Class: [0, 1]\n",
      "1/1 [==============================] - 0s 12ms/step\n",
      "Predicted class vs True Class: [0, 1]\n",
      "1/1 [==============================] - 0s 12ms/step\n",
      "Predicted class vs True Class: [0, 1]\n",
      "1/1 [==============================] - 0s 12ms/step\n",
      "Predicted class vs True Class: [0, 0]\n",
      "1/1 [==============================] - 0s 12ms/step\n",
      "Predicted class vs True Class: [0, 1]\n",
      "1/1 [==============================] - 0s 12ms/step\n",
      "Predicted class vs True Class: [0, 0]\n",
      "1/1 [==============================] - 0s 13ms/step\n",
      "Predicted class vs True Class: [0, 0]\n",
      "1/1 [==============================] - 0s 12ms/step\n",
      "Predicted class vs True Class: [0, 0]\n",
      "1/1 [==============================] - 0s 12ms/step\n",
      "Predicted class vs True Class: [0, 0]\n",
      "1/1 [==============================] - 0s 14ms/step\n",
      "Predicted class vs True Class: [0, 0]\n",
      "1/1 [==============================] - 0s 12ms/step\n",
      "Predicted class vs True Class: [0, 0]\n",
      "1/1 [==============================] - 0s 11ms/step\n",
      "Predicted class vs True Class: [0, 0]\n",
      "1/1 [==============================] - 0s 11ms/step\n",
      "Predicted class vs True Class: [0, 0]\n",
      "1/1 [==============================] - 0s 11ms/step\n",
      "Predicted class vs True Class: [0, 0]\n",
      "1/1 [==============================] - 0s 11ms/step\n",
      "Predicted class vs True Class: [0, 0]\n",
      "1/1 [==============================] - 0s 11ms/step\n",
      "Predicted class vs True Class: [0, 0]\n",
      "1/1 [==============================] - 0s 11ms/step\n",
      "Predicted class vs True Class: [0, 0]\n",
      "1/1 [==============================] - 0s 12ms/step\n",
      "Predicted class vs True Class: [0, 0]\n",
      "1/1 [==============================] - 0s 12ms/step\n",
      "Predicted class vs True Class: [0, 0]\n",
      "1/1 [==============================] - 0s 12ms/step\n",
      "Predicted class vs True Class: [0, 0]\n",
      "1/1 [==============================] - 0s 12ms/step\n",
      "Predicted class vs True Class: [0, 0]\n",
      "\n",
      "sample accuracy = 0.81\n"
     ]
    }
   ],
   "source": [
    "count = 0\n",
    "sample_range = 100\n",
    "for i in range(sample_range):\n",
    "    sample = test_data.iloc[i, 0]\n",
    "    sample_test, _, _ = tokenizer([sample])  # Tokenize the sample as a list\n",
    "\n",
    "    sample_test = pad_sequences(sample_test, maxlen=max_len)  # Pad the sequence to match max_len\n",
    "    test_predict = model.predict(sample_test)\n",
    "    prediction = np.argmax(test_predict)\n",
    "\n",
    "    # After obtaining the predicted class index\n",
    "    predicted_label = label_encoder.inverse_transform([prediction])[0]\n",
    "    true_label = test_data.iloc[i, 1]\n",
    "    if predicted_label == true_label:\n",
    "        count += 1\n",
    "    print(f'Predicted class vs True Class: [{predicted_label}, {true_label}]')\n",
    "\n",
    "print(f'\\nsample accuracy = {count / sample_range}')"
   ],
   "metadata": {
    "collapsed": false,
    "ExecuteTime": {
     "end_time": "2023-07-23T08:51:22.789068428Z",
     "start_time": "2023-07-23T08:51:19.568057111Z"
    }
   }
  },
  {
   "cell_type": "code",
   "execution_count": 56,
   "outputs": [],
   "source": [],
   "metadata": {
    "collapsed": false,
    "ExecuteTime": {
     "end_time": "2023-07-23T08:37:58.449447153Z",
     "start_time": "2023-07-23T08:37:58.408594133Z"
    }
   }
  }
 ],
 "metadata": {
  "kernelspec": {
   "display_name": "Python 3",
   "language": "python",
   "name": "python3"
  },
  "language_info": {
   "codemirror_mode": {
    "name": "ipython",
    "version": 2
   },
   "file_extension": ".py",
   "mimetype": "text/x-python",
   "name": "python",
   "nbconvert_exporter": "python",
   "pygments_lexer": "ipython2",
   "version": "2.7.6"
  }
 },
 "nbformat": 4,
 "nbformat_minor": 0
}
