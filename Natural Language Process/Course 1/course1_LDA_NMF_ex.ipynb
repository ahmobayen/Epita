{
 "nbformat": 4,
 "nbformat_minor": 0,
 "metadata": {
  "colab": {
   "provenance": []
  },
  "kernelspec": {
   "name": "python3",
   "language": "python",
   "display_name": "Python 3 (ipykernel)"
  },
  "language_info": {
   "name": "python"
  }
 },
 "cells": [
  {
   "cell_type": "code",
   "metadata": {
    "id": "3J3nxlXaszd_",
    "ExecuteTime": {
     "end_time": "2023-06-02T14:44:48.441000200Z",
     "start_time": "2023-06-02T14:44:47.911981100Z"
    }
   },
   "source": [
    "import pandas as pd\n",
    "from sklearn.decomposition import NMF\n",
    "from sklearn.feature_extraction.text import TfidfVectorizer\n",
    "# from google.colab import files"
   ],
   "execution_count": 1,
   "outputs": []
  },
  {
   "cell_type": "markdown",
   "metadata": {
    "id": "rWJeC3c3wBgF"
   },
   "source": [
    "## Data loading"
   ]
  },
  {
   "cell_type": "code",
   "metadata": {
    "colab": {
     "base_uri": "https://localhost:8080/"
    },
    "id": "tQ68nvaXXDWy",
    "outputId": "e078dd27-d8ce-4129-ec63-1e254f2ca99a",
    "ExecuteTime": {
     "end_time": "2023-06-02T14:44:48.458078100Z",
     "start_time": "2023-06-02T14:44:48.443998800Z"
    }
   },
   "source": [
    "# Mounting the google drive to google colab in order to load the data files directly from it\n",
    "# from google.colab import drive\n",
    "# drive.mount('/content/drive')"
   ],
   "execution_count": 2,
   "outputs": []
  },
  {
   "cell_type": "code",
   "metadata": {
    "id": "jwLimk5qtAF3",
    "ExecuteTime": {
     "end_time": "2023-06-02T14:44:48.944286500Z",
     "start_time": "2023-06-02T14:44:48.458078100Z"
    }
   },
   "source": [
    "# The data can be load directly from it\n",
    "# You must change the path if the data is not directly in the path EPITA_NLP/Course1/ of the google drive\n",
    "quora = pd.read_csv('quora_questions.csv')\n",
    "print(quora.head(30))\n",
    "# We consider only yhe 10000 first files in order to decrease the computation time\n",
    "texts = quora[\"Question\"][0:10000]"
   ],
   "execution_count": 3,
   "outputs": [
    {
     "name": "stdout",
     "output_type": "stream",
     "text": [
      "                                             Question\n",
      "0   What is the step by step guide to invest in sh...\n",
      "1   What is the story of Kohinoor (Koh-i-Noor) Dia...\n",
      "2   How can I increase the speed of my internet co...\n",
      "3   Why am I mentally very lonely? How can I solve...\n",
      "4   Which one dissolve in water quikly sugar, salt...\n",
      "5   Astrology: I am a Capricorn Sun Cap moon and c...\n",
      "6                                 Should I buy tiago?\n",
      "7                      How can I be a good geologist?\n",
      "8                     When do you use シ instead of し?\n",
      "9   Motorola (company): Can I hack my Charter Moto...\n",
      "10  Method to find separation of slits using fresn...\n",
      "11        How do I read and find my YouTube comments?\n",
      "12               What can make Physics easy to learn?\n",
      "13        What was your first sexual experience like?\n",
      "14  What are the laws to change your status from a...\n",
      "15  What would a Trump presidency mean for current...\n",
      "16                       What does manipulation mean?\n",
      "17  Why do girls want to be friends with the guy t...\n",
      "18  Why are so many Quora users posting questions ...\n",
      "19  Which is the best digital marketing institutio...\n",
      "20                         Why do rockets look white?\n",
      "21              What's causing someone to be jealous?\n",
      "22    What are the questions should not ask on Quora?\n",
      "23                           How much is 30 kV in HP?\n",
      "24  What does it mean that every time I look at th...\n",
      "25  What are some tips on making it through the jo...\n",
      "26                           What is web application?\n",
      "27  Does society place too much importance on sports?\n",
      "28             What is best way to make money online?\n",
      "29             How should I prepare for CA final law?\n"
     ]
    }
   ]
  },
  {
   "cell_type": "markdown",
   "metadata": {
    "id": "3-26YCPK_oms"
   },
   "source": [
    "## Non-negative Matrix Factorization"
   ]
  },
  {
   "cell_type": "markdown",
   "metadata": {
    "id": "K6JO7CCtAM2e"
   },
   "source": [
    "Pre-processing\n",
    "\n",
    "Use the TfidfVectorizer function : https://scikit-learn.org/stable/modules/generated/sklearn.feature_extraction.text.TfidfVectorizer.html"
   ]
  },
  {
   "cell_type": "code",
   "metadata": {
    "id": "7B_h6V_7AELN",
    "ExecuteTime": {
     "end_time": "2023-06-02T14:50:01.389490200Z",
     "start_time": "2023-06-02T14:50:01.280499700Z"
    }
   },
   "source": [
    "# Question 1: Uncomment and complete the following lines\n",
    "\n",
    "tfidf = TfidfVectorizer(stop_words='english', min_df=2, max_df=0.95)\n",
    "dtm = tfidf.fit_transform(texts)\n"
   ],
   "execution_count": 15,
   "outputs": []
  },
  {
   "cell_type": "markdown",
   "metadata": {
    "id": "RhIK3FuWAnEv"
   },
   "source": [
    "Use of the NMF algorithm\n",
    "\n",
    "https://scikit-learn.org/stable/modules/generated/sklearn.decomposition.NMF.html"
   ]
  },
  {
   "cell_type": "code",
   "metadata": {
    "id": "3J_qBSvnApCF",
    "ExecuteTime": {
     "end_time": "2023-06-02T14:50:53.753936300Z",
     "start_time": "2023-06-02T14:50:53.417109800Z"
    }
   },
   "source": [
    "# Question 2: Uncomment and complete the following lines (choose the number of components you want)\n",
    "\n",
    "NMF_ = NMF(n_components=7, init='random', random_state=0)\n",
    "NMF_.fit(dtm)"
   ],
   "execution_count": 18,
   "outputs": [
    {
     "data": {
      "text/plain": "NMF(init='random', n_components=7, random_state=0)",
      "text/html": "<style>#sk-container-id-3 {color: black;background-color: white;}#sk-container-id-3 pre{padding: 0;}#sk-container-id-3 div.sk-toggleable {background-color: white;}#sk-container-id-3 label.sk-toggleable__label {cursor: pointer;display: block;width: 100%;margin-bottom: 0;padding: 0.3em;box-sizing: border-box;text-align: center;}#sk-container-id-3 label.sk-toggleable__label-arrow:before {content: \"▸\";float: left;margin-right: 0.25em;color: #696969;}#sk-container-id-3 label.sk-toggleable__label-arrow:hover:before {color: black;}#sk-container-id-3 div.sk-estimator:hover label.sk-toggleable__label-arrow:before {color: black;}#sk-container-id-3 div.sk-toggleable__content {max-height: 0;max-width: 0;overflow: hidden;text-align: left;background-color: #f0f8ff;}#sk-container-id-3 div.sk-toggleable__content pre {margin: 0.2em;color: black;border-radius: 0.25em;background-color: #f0f8ff;}#sk-container-id-3 input.sk-toggleable__control:checked~div.sk-toggleable__content {max-height: 200px;max-width: 100%;overflow: auto;}#sk-container-id-3 input.sk-toggleable__control:checked~label.sk-toggleable__label-arrow:before {content: \"▾\";}#sk-container-id-3 div.sk-estimator input.sk-toggleable__control:checked~label.sk-toggleable__label {background-color: #d4ebff;}#sk-container-id-3 div.sk-label input.sk-toggleable__control:checked~label.sk-toggleable__label {background-color: #d4ebff;}#sk-container-id-3 input.sk-hidden--visually {border: 0;clip: rect(1px 1px 1px 1px);clip: rect(1px, 1px, 1px, 1px);height: 1px;margin: -1px;overflow: hidden;padding: 0;position: absolute;width: 1px;}#sk-container-id-3 div.sk-estimator {font-family: monospace;background-color: #f0f8ff;border: 1px dotted black;border-radius: 0.25em;box-sizing: border-box;margin-bottom: 0.5em;}#sk-container-id-3 div.sk-estimator:hover {background-color: #d4ebff;}#sk-container-id-3 div.sk-parallel-item::after {content: \"\";width: 100%;border-bottom: 1px solid gray;flex-grow: 1;}#sk-container-id-3 div.sk-label:hover label.sk-toggleable__label {background-color: #d4ebff;}#sk-container-id-3 div.sk-serial::before {content: \"\";position: absolute;border-left: 1px solid gray;box-sizing: border-box;top: 0;bottom: 0;left: 50%;z-index: 0;}#sk-container-id-3 div.sk-serial {display: flex;flex-direction: column;align-items: center;background-color: white;padding-right: 0.2em;padding-left: 0.2em;position: relative;}#sk-container-id-3 div.sk-item {position: relative;z-index: 1;}#sk-container-id-3 div.sk-parallel {display: flex;align-items: stretch;justify-content: center;background-color: white;position: relative;}#sk-container-id-3 div.sk-item::before, #sk-container-id-3 div.sk-parallel-item::before {content: \"\";position: absolute;border-left: 1px solid gray;box-sizing: border-box;top: 0;bottom: 0;left: 50%;z-index: -1;}#sk-container-id-3 div.sk-parallel-item {display: flex;flex-direction: column;z-index: 1;position: relative;background-color: white;}#sk-container-id-3 div.sk-parallel-item:first-child::after {align-self: flex-end;width: 50%;}#sk-container-id-3 div.sk-parallel-item:last-child::after {align-self: flex-start;width: 50%;}#sk-container-id-3 div.sk-parallel-item:only-child::after {width: 0;}#sk-container-id-3 div.sk-dashed-wrapped {border: 1px dashed gray;margin: 0 0.4em 0.5em 0.4em;box-sizing: border-box;padding-bottom: 0.4em;background-color: white;}#sk-container-id-3 div.sk-label label {font-family: monospace;font-weight: bold;display: inline-block;line-height: 1.2em;}#sk-container-id-3 div.sk-label-container {text-align: center;}#sk-container-id-3 div.sk-container {/* jupyter's `normalize.less` sets `[hidden] { display: none; }` but bootstrap.min.css set `[hidden] { display: none !important; }` so we also need the `!important` here to be able to override the default hidden behavior on the sphinx rendered scikit-learn.org. See: https://github.com/scikit-learn/scikit-learn/issues/21755 */display: inline-block !important;position: relative;}#sk-container-id-3 div.sk-text-repr-fallback {display: none;}</style><div id=\"sk-container-id-3\" class=\"sk-top-container\"><div class=\"sk-text-repr-fallback\"><pre>NMF(init=&#x27;random&#x27;, n_components=7, random_state=0)</pre><b>In a Jupyter environment, please rerun this cell to show the HTML representation or trust the notebook. <br />On GitHub, the HTML representation is unable to render, please try loading this page with nbviewer.org.</b></div><div class=\"sk-container\" hidden><div class=\"sk-item\"><div class=\"sk-estimator sk-toggleable\"><input class=\"sk-toggleable__control sk-hidden--visually\" id=\"sk-estimator-id-3\" type=\"checkbox\" checked><label for=\"sk-estimator-id-3\" class=\"sk-toggleable__label sk-toggleable__label-arrow\">NMF</label><div class=\"sk-toggleable__content\"><pre>NMF(init=&#x27;random&#x27;, n_components=7, random_state=0)</pre></div></div></div></div></div>"
     },
     "execution_count": 18,
     "metadata": {},
     "output_type": "execute_result"
    }
   ]
  },
  {
   "cell_type": "markdown",
   "metadata": {
    "id": "sMLhRWMooDbT"
   },
   "source": [
    "Have a look at the components\n"
   ]
  },
  {
   "cell_type": "code",
   "metadata": {
    "id": "XOvlaEu_BXTV",
    "ExecuteTime": {
     "end_time": "2023-06-02T14:50:57.335004200Z",
     "start_time": "2023-06-02T14:50:57.315998400Z"
    }
   },
   "source": [
    "NMF_.components_"
   ],
   "execution_count": 19,
   "outputs": [
    {
     "data": {
      "text/plain": "array([[6.50669087e-03, 0.00000000e+00, 2.67041555e-02, ...,\n        0.00000000e+00, 0.00000000e+00, 0.00000000e+00],\n       [2.58116728e-02, 0.00000000e+00, 1.76912466e-02, ...,\n        0.00000000e+00, 0.00000000e+00, 0.00000000e+00],\n       [3.34615170e-03, 3.94290220e-04, 5.45910125e-03, ...,\n        0.00000000e+00, 2.78757037e-03, 1.03327876e-02],\n       ...,\n       [0.00000000e+00, 2.89111494e-04, 1.40061073e-02, ...,\n        7.25078981e-05, 0.00000000e+00, 0.00000000e+00],\n       [0.00000000e+00, 7.78688015e-04, 1.17346239e-02, ...,\n        3.77963644e-05, 0.00000000e+00, 1.08311569e-02],\n       [7.35029346e-03, 1.28938394e-04, 1.23298363e-02, ...,\n        0.00000000e+00, 0.00000000e+00, 4.09595984e-04]])"
     },
     "execution_count": 19,
     "metadata": {},
     "output_type": "execute_result"
    }
   ]
  },
  {
   "cell_type": "markdown",
   "metadata": {
    "id": "jm7dmg7YoGy6"
   },
   "source": [
    "Have a look at the shape of the component array.\n",
    "\n",
    "Can you explain the meaning of the shape observed?\n"
   ]
  },
  {
   "cell_type": "code",
   "metadata": {
    "id": "_u7Ltj3lBYoV",
    "ExecuteTime": {
     "end_time": "2023-06-02T14:51:14.288498400Z",
     "start_time": "2023-06-02T14:51:14.270498100Z"
    }
   },
   "source": [
    "NMF_.components_.shape"
   ],
   "execution_count": 20,
   "outputs": [
    {
     "data": {
      "text/plain": "(7, 5168)"
     },
     "execution_count": 20,
     "metadata": {},
     "output_type": "execute_result"
    }
   ]
  },
  {
   "cell_type": "markdown",
   "metadata": {
    "id": "k1enbOYKDEyJ"
   },
   "source": [
    "Let's have a look at the most representative words of each topic\n"
   ]
  },
  {
   "cell_type": "code",
   "metadata": {
    "id": "2adGIa2aBb8V",
    "ExecuteTime": {
     "end_time": "2023-06-02T14:57:55.998757600Z",
     "start_time": "2023-06-02T14:57:55.960284800Z"
    }
   },
   "source": [
    "# Question 3: Print the 15 words the most representative of each topic\n",
    "# Advice: both tfidf and NMF objects can be useful to achieve it\n",
    "# Do you think the number of components used at the previous question for the NMF was relevant? You can try to change it if you want.\n",
    "tfidf_features = tfidf.get_feature_names_out()\n",
    "\n",
    "for index_topic, topic_line in enumerate(NMF_.components_):\n",
    "    print('topic', index_topic)\n",
    "    print([tfidf_features[i] for i in topic_line.argsort()[-15:]])\n",
    "    print('------------------')"
   ],
   "execution_count": 26,
   "outputs": [
    {
     "name": "stdout",
     "output_type": "stream",
     "text": [
      "topic 0\n",
      "['start', 'movie', 'weight', 'english', 'learning', 'books', 'book', 'programming', '2016', 'movies', 'language', 'india', 'learn', 'way', 'best']\n",
      "------------------\n",
      "topic 1\n",
      "['rupee', 'day', 'did', 'black', 'friends', 'notes', '500', 'ways', '1000', 'india', 'way', 'earn', 'online', 'money', 'make']\n",
      "------------------\n",
      "topic 2\n",
      "['time', 'new', 'says', 'english', 'compare', 'use', 'cost', 'exist', 'love', 'long', 'feel', 'india', 'work', 'mean', 'does']\n",
      "------------------\n",
      "topic 3\n",
      "['knowledge', 'java', 'machine', 'systems', 'transgender', 'bank', 'computer', 'information', 'main', 'engineering', 'science', 'data', 'job', 'love', 'difference']\n",
      "------------------\n",
      "topic 4\n",
      "['believe', 'needing', 'easily', 'improvement', 'asked', 'google', 'delete', 'answers', 'answer', 'ask', 'think', 'question', 'questions', 'people', 'quora']\n",
      "------------------\n",
      "topic 5\n",
      "['things', 'world', 'thing', 'girl', 'going', 'sex', 'person', 'don', 'girls', 'did', 'feel', 'know', 'work', 'life', 'like']\n",
      "------------------\n",
      "topic 6\n",
      "['trump', 'university', 'milk', 'learning', 'science', 'engineer', 'software', 'time', 'examples', 'makes', 'books', 'engineering', 'india', 'learn', 'good']\n",
      "------------------\n"
     ]
    }
   ]
  },
  {
   "cell_type": "markdown",
   "metadata": {
    "id": "7k8yabNLDk-W"
   },
   "source": [
    "Associate explicitly each text to a topic"
   ]
  },
  {
   "cell_type": "code",
   "source": [
    "# Question 4: associate each text to a specific topic into a new two-column DataFrame\n",
    "# with one column for the text and the other for the topic number\n",
    "# Hint: you may find NMF.transform function useful\n",
    "\n",
    "NMF_transform = NMF_.transform(dtm)\n",
    "NMF_transform.shape\n",
    "NMF_transform.argmax(axis=1)\n",
    "pd.DataFrame({'texts': texts, 'NMF_Cluster': NMF_transform.argmax(axis=1)})"
   ],
   "metadata": {
    "id": "SfSHSwY50N5R",
    "ExecuteTime": {
     "end_time": "2023-06-02T15:01:15.826931400Z",
     "start_time": "2023-06-02T15:01:15.791179100Z"
    }
   },
   "execution_count": 30,
   "outputs": [
    {
     "data": {
      "text/plain": "                                                  texts  NMF_Cluster\n0     What is the step by step guide to invest in sh...            0\n1     What is the story of Kohinoor (Koh-i-Noor) Dia...            0\n2     How can I increase the speed of my internet co...            1\n3     Why am I mentally very lonely? How can I solve...            5\n4     Which one dissolve in water quikly sugar, salt...            2\n...                                                 ...          ...\n9995  How would you order these four cities (Bangalo...            4\n9996                            Stphen william hawking?            0\n9997  Mathematical Puzzles: What is () + () + () = 3...            4\n9998                         Is IMS noida good for BCA?            6\n9999  What are the most respected and informative te...            0\n\n[10000 rows x 2 columns]",
      "text/html": "<div>\n<style scoped>\n    .dataframe tbody tr th:only-of-type {\n        vertical-align: middle;\n    }\n\n    .dataframe tbody tr th {\n        vertical-align: top;\n    }\n\n    .dataframe thead th {\n        text-align: right;\n    }\n</style>\n<table border=\"1\" class=\"dataframe\">\n  <thead>\n    <tr style=\"text-align: right;\">\n      <th></th>\n      <th>texts</th>\n      <th>NMF_Cluster</th>\n    </tr>\n  </thead>\n  <tbody>\n    <tr>\n      <th>0</th>\n      <td>What is the step by step guide to invest in sh...</td>\n      <td>0</td>\n    </tr>\n    <tr>\n      <th>1</th>\n      <td>What is the story of Kohinoor (Koh-i-Noor) Dia...</td>\n      <td>0</td>\n    </tr>\n    <tr>\n      <th>2</th>\n      <td>How can I increase the speed of my internet co...</td>\n      <td>1</td>\n    </tr>\n    <tr>\n      <th>3</th>\n      <td>Why am I mentally very lonely? How can I solve...</td>\n      <td>5</td>\n    </tr>\n    <tr>\n      <th>4</th>\n      <td>Which one dissolve in water quikly sugar, salt...</td>\n      <td>2</td>\n    </tr>\n    <tr>\n      <th>...</th>\n      <td>...</td>\n      <td>...</td>\n    </tr>\n    <tr>\n      <th>9995</th>\n      <td>How would you order these four cities (Bangalo...</td>\n      <td>4</td>\n    </tr>\n    <tr>\n      <th>9996</th>\n      <td>Stphen william hawking?</td>\n      <td>0</td>\n    </tr>\n    <tr>\n      <th>9997</th>\n      <td>Mathematical Puzzles: What is () + () + () = 3...</td>\n      <td>4</td>\n    </tr>\n    <tr>\n      <th>9998</th>\n      <td>Is IMS noida good for BCA?</td>\n      <td>6</td>\n    </tr>\n    <tr>\n      <th>9999</th>\n      <td>What are the most respected and informative te...</td>\n      <td>0</td>\n    </tr>\n  </tbody>\n</table>\n<p>10000 rows × 2 columns</p>\n</div>"
     },
     "execution_count": 30,
     "metadata": {},
     "output_type": "execute_result"
    }
   ]
  },
  {
   "cell_type": "markdown",
   "metadata": {
    "id": "yhs33Hm7wJ0o"
   },
   "source": [
    "## Latent Dirichlet Allocation (LDA)"
   ]
  },
  {
   "cell_type": "markdown",
   "metadata": {
    "id": "f3tSd7WqwQV5"
   },
   "source": [
    "Pre-processing \n",
    "\n",
    "Use the CountVectorizer function : https://scikit-learn.org/stable/modules/generated/sklearn.feature_extraction.text.CountVectorizer.html"
   ]
  },
  {
   "cell_type": "code",
   "metadata": {
    "id": "CmJZvSgAtAs1",
    "ExecuteTime": {
     "end_time": "2023-06-02T14:44:50.639745Z",
     "start_time": "2023-06-02T14:44:49.656285100Z"
    }
   },
   "source": [
    "# Question 5: Uncomment and complete the following lines\n",
    "\n",
    "#cv = CountVectorizer(????)\n",
    "#dtm = cv.fit_transform(????)"
   ],
   "execution_count": 10,
   "outputs": []
  },
  {
   "cell_type": "markdown",
   "metadata": {
    "id": "mo88pG0u4Fpd"
   },
   "source": [
    "Use of the LDA algorithm\n",
    "\n",
    "https://scikit-learn.org/stable/modules/generated/sklearn.decomposition.LatentDirichletAllocation.html"
   ]
  },
  {
   "cell_type": "code",
   "metadata": {
    "id": "40ngCvJNw_Z1",
    "ExecuteTime": {
     "end_time": "2023-06-02T14:44:50.640751Z",
     "start_time": "2023-06-02T14:44:49.670285800Z"
    }
   },
   "source": [
    "# Question 6: Uncomment and complete the following lines (choose the number of components you want)\n",
    "\n",
    "#LDA = LatentDirichletAllocation(????)\n",
    "#LDA.fit(????)"
   ],
   "execution_count": 11,
   "outputs": []
  },
  {
   "cell_type": "markdown",
   "metadata": {
    "id": "zgdYlLUThMDw"
   },
   "source": [
    "Have a look at the components\n",
    "\n"
   ]
  },
  {
   "cell_type": "code",
   "metadata": {
    "id": "5qFcwYxI71gC",
    "ExecuteTime": {
     "end_time": "2023-06-02T14:44:50.640751Z",
     "start_time": "2023-06-02T14:44:49.687621Z"
    }
   },
   "source": [
    "LDA.components_"
   ],
   "execution_count": 12,
   "outputs": [
    {
     "ename": "NameError",
     "evalue": "name 'LDA' is not defined",
     "output_type": "error",
     "traceback": [
      "\u001B[1;31m---------------------------------------------------------------------------\u001B[0m",
      "\u001B[1;31mNameError\u001B[0m                                 Traceback (most recent call last)",
      "Cell \u001B[1;32mIn[12], line 1\u001B[0m\n\u001B[1;32m----> 1\u001B[0m \u001B[43mLDA\u001B[49m\u001B[38;5;241m.\u001B[39mcomponents_\n",
      "\u001B[1;31mNameError\u001B[0m: name 'LDA' is not defined"
     ]
    }
   ]
  },
  {
   "cell_type": "markdown",
   "metadata": {
    "id": "s6W2cElshQiq"
   },
   "source": [
    "Have a look at the shape of the component array.\n",
    "\n",
    "Can you explain the meaning of the shape observed? "
   ]
  },
  {
   "cell_type": "code",
   "metadata": {
    "id": "1aRhxvSn74i6",
    "ExecuteTime": {
     "start_time": "2023-06-02T14:44:50.342163600Z"
    }
   },
   "source": [
    "LDA.components_.shape"
   ],
   "execution_count": null,
   "outputs": []
  },
  {
   "cell_type": "markdown",
   "metadata": {
    "id": "tw4DPL3a5AS6"
   },
   "source": [
    "Let's have a look at the most representative words of each topic\n"
   ]
  },
  {
   "cell_type": "code",
   "metadata": {
    "id": "UfgF6gqxxBa9",
    "ExecuteTime": {
     "start_time": "2023-06-02T14:44:50.345164200Z"
    }
   },
   "source": [
    "# Question 6: Print the 15 words the most representative of each topic\n",
    "# Advice: both cv and LDA objects can be useful to achieve it\n",
    "# Do you think the number of components used at the previous question for the LDA was relevant? You can try to change it if you want."
   ],
   "execution_count": null,
   "outputs": []
  },
  {
   "cell_type": "markdown",
   "metadata": {
    "id": "TNDKjLQS949W"
   },
   "source": [
    "Associate explicitly each text to a topic"
   ]
  },
  {
   "cell_type": "code",
   "metadata": {
    "id": "32KJFCv_98iV",
    "ExecuteTime": {
     "start_time": "2023-06-02T14:44:50.347196Z"
    }
   },
   "source": [
    "# Question 7: associate each text to a specific topic into a new three-column DataFrame\n",
    "# with one column for the text, the second for the topic number of NMF classification and the third  for the topic number of LDA classification\n",
    "# Hint: you may find LDA.transform function useful"
   ],
   "execution_count": null,
   "outputs": []
  }
 ]
}
