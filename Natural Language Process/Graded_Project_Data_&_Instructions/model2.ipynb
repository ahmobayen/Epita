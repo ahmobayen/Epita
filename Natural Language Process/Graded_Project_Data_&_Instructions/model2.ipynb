{
 "cells": [
  {
   "cell_type": "markdown",
   "source": [
    "# Team Members:\n",
    "- Amir Mobayen\n",
    "- Leelav Kareem\n",
    "- Nikita Chistyakov\n",
    "\n",
    "## Topic:\n",
    "A Recurrent Neural Network, based on LSTM or GRU"
   ],
   "metadata": {
    "collapsed": false
   }
  },
  {
   "cell_type": "markdown",
   "source": [
    "## Libraries"
   ],
   "metadata": {
    "collapsed": false
   }
  },
  {
   "cell_type": "code",
   "execution_count": 60,
   "outputs": [],
   "source": [
    "# Basic packages\n",
    "import numpy as np\n",
    "import pandas as pd\n",
    "\n",
    "# Plots\n",
    "import matplotlib.pyplot as plt\n",
    "\n",
    "# Tensorflow\n",
    "import tensorflow as tf\n",
    "from tensorflow.keras.preprocessing.text import Tokenizer\n",
    "from tensorflow.keras.utils import pad_sequences\n",
    "\n",
    "# Sklearn\n",
    "from sklearn.preprocessing import LabelEncoder\n",
    "from sklearn.model_selection import train_test_split\n",
    "from sklearn.metrics import mean_squared_error, mean_absolute_error, r2_score\n",
    "\n",
    "tf.get_logger().setLevel('ERROR')\n"
   ],
   "metadata": {
    "collapsed": false,
    "ExecuteTime": {
     "end_time": "2023-07-23T09:39:06.498898446Z",
     "start_time": "2023-07-23T09:39:06.482328401Z"
    }
   }
  },
  {
   "cell_type": "markdown",
   "source": [
    "# About the dataset:\n",
    "List of tweet texts with emotion labels like joy, sadness, fear, anger…\n",
    "Dataset is split into train, test and validation sets for building the machine learning model. At first, you are\n",
    "given only train and test sets. The validation one will be given in the end of the project for you to check\n",
    "the final performance of your algorithm (to make sure there is no overfitting over the test data).\n",
    "You can work on this project on group of one, two or three students. This exercise is mandatory, not\n",
    "giving it back is equivalent to getting to lowest grade"
   ],
   "metadata": {
    "collapsed": false
   }
  },
  {
   "cell_type": "markdown",
   "source": [
    "# Goal:\n",
    "- Train different kind of models able to classify each text according to the sentiment mainly present\n",
    "in it\n",
    "- Compare the results of your different models and try to analyze and explain the differences"
   ],
   "metadata": {
    "collapsed": false
   }
  },
  {
   "cell_type": "markdown",
   "source": [
    "# Parameters"
   ],
   "metadata": {
    "collapsed": false
   }
  },
  {
   "cell_type": "code",
   "execution_count": 61,
   "outputs": [],
   "source": [
    "data_file = './NLP_exam_emotions_dataset/train.txt'\n",
    "test_flie = './NLP_exam_emotions_dataset/test.txt'"
   ],
   "metadata": {
    "collapsed": false,
    "ExecuteTime": {
     "end_time": "2023-07-23T09:39:06.500480977Z",
     "start_time": "2023-07-23T09:39:06.488380196Z"
    }
   }
  },
  {
   "cell_type": "markdown",
   "source": [
    "# Preparing Dataset"
   ],
   "metadata": {
    "collapsed": false
   }
  },
  {
   "cell_type": "code",
   "execution_count": 62,
   "outputs": [
    {
     "data": {
      "text/plain": "(                             i didnt feel humiliated  sadness\n 0  i can go from feeling so hopeless to so damned...  sadness\n 1   im grabbing a minute to post i feel greedy wrong    anger\n 2  i am ever feeling nostalgic about the fireplac...     love\n 3                               i am feeling grouchy    anger\n 4  ive been feeling a little burdened lately wasn...  sadness,\n   im feeling rather rotten so im not very ambitious right now  sadness\n 0          im updating my blog because i feel shitty           sadness\n 1  i never make her separate from me because i do...           sadness\n 2  i left with my bouquet of red and yellow tulip...               joy\n 3    i was feeling a little vain when i did this one           sadness\n 4  i cant walk into a shop anywhere where i do no...              fear)"
     },
     "execution_count": 62,
     "metadata": {},
     "output_type": "execute_result"
    }
   ],
   "source": [
    "train_data = pd.read_csv(data_file, delimiter=';', header=0)\n",
    "test_data = pd.read_csv(test_flie, delimiter=';', header=0)\n",
    "\n",
    "train_data.head(), test_data.head()"
   ],
   "metadata": {
    "collapsed": false,
    "ExecuteTime": {
     "end_time": "2023-07-23T09:39:06.535110354Z",
     "start_time": "2023-07-23T09:39:06.491948800Z"
    }
   }
  },
  {
   "cell_type": "code",
   "execution_count": 63,
   "outputs": [
    {
     "name": "stdout",
     "output_type": "stream",
     "text": [
      "<class 'pandas.core.frame.DataFrame'>\n",
      "RangeIndex: 15999 entries, 0 to 15998\n",
      "Data columns (total 2 columns):\n",
      " #   Column                   Non-Null Count  Dtype \n",
      "---  ------                   --------------  ----- \n",
      " 0   i didnt feel humiliated  15999 non-null  object\n",
      " 1   sadness                  15999 non-null  object\n",
      "dtypes: object(2)\n",
      "memory usage: 250.1+ KB\n",
      "<class 'pandas.core.frame.DataFrame'>\n",
      "RangeIndex: 1999 entries, 0 to 1998\n",
      "Data columns (total 2 columns):\n",
      " #   Column                                                       Non-Null Count  Dtype \n",
      "---  ------                                                       --------------  ----- \n",
      " 0   im feeling rather rotten so im not very ambitious right now  1999 non-null   object\n",
      " 1   sadness                                                      1999 non-null   object\n",
      "dtypes: object(2)\n",
      "memory usage: 31.4+ KB\n"
     ]
    },
    {
     "data": {
      "text/plain": "(None, None)"
     },
     "execution_count": 63,
     "metadata": {},
     "output_type": "execute_result"
    }
   ],
   "source": [
    "train_data.info(), test_data.info()"
   ],
   "metadata": {
    "collapsed": false,
    "ExecuteTime": {
     "end_time": "2023-07-23T09:39:06.575022556Z",
     "start_time": "2023-07-23T09:39:06.561420418Z"
    }
   }
  },
  {
   "cell_type": "code",
   "execution_count": 64,
   "outputs": [],
   "source": [
    "def tokenizer(text, max_len=None):\n",
    "    tokenizer = Tokenizer()\n",
    "    tokenizer.fit_on_texts(text)\n",
    "    sequences = tokenizer.texts_to_sequences(text)\n",
    "    vocab_size = len(tokenizer.word_index) + 1\n",
    "    if not max_len:\n",
    "        max_len = max([len(seq) for seq in sequences])\n",
    "    return pad_sequences(sequences, maxlen=max_len), max_len, vocab_size"
   ],
   "metadata": {
    "collapsed": false,
    "ExecuteTime": {
     "end_time": "2023-07-23T09:39:06.575215659Z",
     "start_time": "2023-07-23T09:39:06.561728566Z"
    }
   }
  },
  {
   "cell_type": "code",
   "execution_count": 65,
   "outputs": [],
   "source": [
    "train_x, max_len, vocab_size = tokenizer(train_data.iloc[:, 0])\n",
    "test_x, _, _ = tokenizer(test_data.iloc[:, 0], max_len)"
   ],
   "metadata": {
    "collapsed": false,
    "ExecuteTime": {
     "end_time": "2023-07-23T09:39:06.850001429Z",
     "start_time": "2023-07-23T09:39:06.561886030Z"
    }
   }
  },
  {
   "cell_type": "code",
   "execution_count": 66,
   "outputs": [
    {
     "data": {
      "text/plain": "(array([4, 0, 3, ..., 2, 0, 4]), array([4, 4, 2, ..., 2, 2, 1]))"
     },
     "execution_count": 66,
     "metadata": {},
     "output_type": "execute_result"
    }
   ],
   "source": [
    "label_encoder = LabelEncoder()\n",
    "train_y = label_encoder.fit_transform(train_data.iloc[:, 1])\n",
    "test_y = label_encoder.transform(test_data.iloc[:, 1])\n",
    "len_label = len(np.unique(train_y))\n",
    "train_y, test_y"
   ],
   "metadata": {
    "collapsed": false,
    "ExecuteTime": {
     "end_time": "2023-07-23T09:39:06.897842158Z",
     "start_time": "2023-07-23T09:39:06.854158632Z"
    }
   }
  },
  {
   "cell_type": "markdown",
   "source": [
    "# Model"
   ],
   "metadata": {
    "collapsed": false
   }
  },
  {
   "cell_type": "code",
   "execution_count": 67,
   "outputs": [
    {
     "name": "stderr",
     "output_type": "stream",
     "text": [
      "2023-07-23 11:39:06.992334: I tensorflow/core/common_runtime/executor.cc:1197] [/device:CPU:0] (DEBUG INFO) Executor start aborting (this does not indicate an error and you can ignore this message): INVALID_ARGUMENT: You must feed a value for placeholder tensor 'gradients/split_2_grad/concat/split_2/split_dim' with dtype int32\n",
      "\t [[{{node gradients/split_2_grad/concat/split_2/split_dim}}]]\n",
      "2023-07-23 11:39:06.993249: I tensorflow/core/common_runtime/executor.cc:1197] [/device:CPU:0] (DEBUG INFO) Executor start aborting (this does not indicate an error and you can ignore this message): INVALID_ARGUMENT: You must feed a value for placeholder tensor 'gradients/split_grad/concat/split/split_dim' with dtype int32\n",
      "\t [[{{node gradients/split_grad/concat/split/split_dim}}]]\n",
      "2023-07-23 11:39:06.993857: I tensorflow/core/common_runtime/executor.cc:1197] [/device:CPU:0] (DEBUG INFO) Executor start aborting (this does not indicate an error and you can ignore this message): INVALID_ARGUMENT: You must feed a value for placeholder tensor 'gradients/split_1_grad/concat/split_1/split_dim' with dtype int32\n",
      "\t [[{{node gradients/split_1_grad/concat/split_1/split_dim}}]]\n",
      "2023-07-23 11:39:07.066172: I tensorflow/core/common_runtime/executor.cc:1197] [/device:CPU:0] (DEBUG INFO) Executor start aborting (this does not indicate an error and you can ignore this message): INVALID_ARGUMENT: You must feed a value for placeholder tensor 'gradients/ReverseV2_grad/ReverseV2/ReverseV2/axis' with dtype int32 and shape [1]\n",
      "\t [[{{node gradients/ReverseV2_grad/ReverseV2/ReverseV2/axis}}]]\n",
      "2023-07-23 11:39:07.085249: I tensorflow/core/common_runtime/executor.cc:1197] [/device:CPU:0] (DEBUG INFO) Executor start aborting (this does not indicate an error and you can ignore this message): INVALID_ARGUMENT: You must feed a value for placeholder tensor 'gradients/split_2_grad/concat/split_2/split_dim' with dtype int32\n",
      "\t [[{{node gradients/split_2_grad/concat/split_2/split_dim}}]]\n",
      "2023-07-23 11:39:07.086011: I tensorflow/core/common_runtime/executor.cc:1197] [/device:CPU:0] (DEBUG INFO) Executor start aborting (this does not indicate an error and you can ignore this message): INVALID_ARGUMENT: You must feed a value for placeholder tensor 'gradients/split_grad/concat/split/split_dim' with dtype int32\n",
      "\t [[{{node gradients/split_grad/concat/split/split_dim}}]]\n",
      "2023-07-23 11:39:07.086637: I tensorflow/core/common_runtime/executor.cc:1197] [/device:CPU:0] (DEBUG INFO) Executor start aborting (this does not indicate an error and you can ignore this message): INVALID_ARGUMENT: You must feed a value for placeholder tensor 'gradients/split_1_grad/concat/split_1/split_dim' with dtype int32\n",
      "\t [[{{node gradients/split_1_grad/concat/split_1/split_dim}}]]\n"
     ]
    },
    {
     "name": "stdout",
     "output_type": "stream",
     "text": [
      "Model: \"sequential\"\n",
      "_________________________________________________________________\n",
      " Layer (type)                Output Shape              Param #   \n",
      "=================================================================\n",
      " embedding (Embedding)       (None, 66, 100)           1521300   \n",
      "                                                                 \n",
      " conv1d (Conv1D)             (None, 62, 128)           64128     \n",
      "                                                                 \n",
      " max_pooling1d (MaxPooling1D  (None, 1, 128)           0         \n",
      " )                                                               \n",
      "                                                                 \n",
      " bidirectional (Bidirectiona  (None, 1, 128)           74496     \n",
      " l)                                                              \n",
      "                                                                 \n",
      " bidirectional_1 (Bidirectio  (None, 128)              74496     \n",
      " nal)                                                            \n",
      "                                                                 \n",
      " dense (Dense)               (None, 64)                8256      \n",
      "                                                                 \n",
      " dropout (Dropout)           (None, 64)                0         \n",
      "                                                                 \n",
      " dense_1 (Dense)             (None, 6)                 390       \n",
      "                                                                 \n",
      "=================================================================\n",
      "Total params: 1,743,066\n",
      "Trainable params: 1,743,066\n",
      "Non-trainable params: 0\n",
      "_________________________________________________________________\n"
     ]
    },
    {
     "name": "stderr",
     "output_type": "stream",
     "text": [
      "2023-07-23 11:39:07.194058: I tensorflow/core/common_runtime/executor.cc:1197] [/device:CPU:0] (DEBUG INFO) Executor start aborting (this does not indicate an error and you can ignore this message): INVALID_ARGUMENT: You must feed a value for placeholder tensor 'gradients/split_2_grad/concat/split_2/split_dim' with dtype int32\n",
      "\t [[{{node gradients/split_2_grad/concat/split_2/split_dim}}]]\n",
      "2023-07-23 11:39:07.195217: I tensorflow/core/common_runtime/executor.cc:1197] [/device:CPU:0] (DEBUG INFO) Executor start aborting (this does not indicate an error and you can ignore this message): INVALID_ARGUMENT: You must feed a value for placeholder tensor 'gradients/split_grad/concat/split/split_dim' with dtype int32\n",
      "\t [[{{node gradients/split_grad/concat/split/split_dim}}]]\n",
      "2023-07-23 11:39:07.195909: I tensorflow/core/common_runtime/executor.cc:1197] [/device:CPU:0] (DEBUG INFO) Executor start aborting (this does not indicate an error and you can ignore this message): INVALID_ARGUMENT: You must feed a value for placeholder tensor 'gradients/split_1_grad/concat/split_1/split_dim' with dtype int32\n",
      "\t [[{{node gradients/split_1_grad/concat/split_1/split_dim}}]]\n",
      "2023-07-23 11:39:07.268980: I tensorflow/core/common_runtime/executor.cc:1197] [/device:CPU:0] (DEBUG INFO) Executor start aborting (this does not indicate an error and you can ignore this message): INVALID_ARGUMENT: You must feed a value for placeholder tensor 'gradients/ReverseV2_grad/ReverseV2/ReverseV2/axis' with dtype int32 and shape [1]\n",
      "\t [[{{node gradients/ReverseV2_grad/ReverseV2/ReverseV2/axis}}]]\n",
      "2023-07-23 11:39:07.289106: I tensorflow/core/common_runtime/executor.cc:1197] [/device:CPU:0] (DEBUG INFO) Executor start aborting (this does not indicate an error and you can ignore this message): INVALID_ARGUMENT: You must feed a value for placeholder tensor 'gradients/split_2_grad/concat/split_2/split_dim' with dtype int32\n",
      "\t [[{{node gradients/split_2_grad/concat/split_2/split_dim}}]]\n",
      "2023-07-23 11:39:07.289760: I tensorflow/core/common_runtime/executor.cc:1197] [/device:CPU:0] (DEBUG INFO) Executor start aborting (this does not indicate an error and you can ignore this message): INVALID_ARGUMENT: You must feed a value for placeholder tensor 'gradients/split_grad/concat/split/split_dim' with dtype int32\n",
      "\t [[{{node gradients/split_grad/concat/split/split_dim}}]]\n",
      "2023-07-23 11:39:07.290361: I tensorflow/core/common_runtime/executor.cc:1197] [/device:CPU:0] (DEBUG INFO) Executor start aborting (this does not indicate an error and you can ignore this message): INVALID_ARGUMENT: You must feed a value for placeholder tensor 'gradients/split_1_grad/concat/split_1/split_dim' with dtype int32\n",
      "\t [[{{node gradients/split_1_grad/concat/split_1/split_dim}}]]\n"
     ]
    }
   ],
   "source": [
    "# Define the model\n",
    "model = tf.keras.models.Sequential()\n",
    "model.add(tf.keras.layers.Embedding(vocab_size, 100, input_length=max_len))\n",
    "model.add(tf.keras.layers.Conv1D(128, 5, activation='elu'))\n",
    "model.add(tf.keras.layers.MaxPooling1D(pool_size=32))\n",
    "model.add(tf.keras.layers.Bidirectional(tf.keras.layers.GRU(64, return_sequences=True)))\n",
    "model.add(tf.keras.layers.Bidirectional(tf.keras.layers.GRU(64, return_sequences=False)))\n",
    "model.add(tf.keras.layers.Dense(64, activation='elu'))\n",
    "model.add(tf.keras.layers.Dropout(0.2))\n",
    "model.add(tf.keras.layers.Dense(len_label, activation='softmax'))\n",
    "\n",
    "model.summary()"
   ],
   "metadata": {
    "collapsed": false,
    "ExecuteTime": {
     "end_time": "2023-07-23T09:39:07.354193874Z",
     "start_time": "2023-07-23T09:39:06.897527393Z"
    }
   }
  },
  {
   "cell_type": "code",
   "execution_count": 68,
   "outputs": [
    {
     "name": "stdout",
     "output_type": "stream",
     "text": [
      "Epoch 1/30\n"
     ]
    },
    {
     "name": "stderr",
     "output_type": "stream",
     "text": [
      "2023-07-23 11:39:07.575366: I tensorflow/core/common_runtime/executor.cc:1197] [/device:CPU:0] (DEBUG INFO) Executor start aborting (this does not indicate an error and you can ignore this message): INVALID_ARGUMENT: You must feed a value for placeholder tensor 'gradients/split_2_grad/concat/split_2/split_dim' with dtype int32\n",
      "\t [[{{node gradients/split_2_grad/concat/split_2/split_dim}}]]\n",
      "2023-07-23 11:39:07.576725: I tensorflow/core/common_runtime/executor.cc:1197] [/device:CPU:0] (DEBUG INFO) Executor start aborting (this does not indicate an error and you can ignore this message): INVALID_ARGUMENT: You must feed a value for placeholder tensor 'gradients/split_grad/concat/split/split_dim' with dtype int32\n",
      "\t [[{{node gradients/split_grad/concat/split/split_dim}}]]\n",
      "2023-07-23 11:39:07.577880: I tensorflow/core/common_runtime/executor.cc:1197] [/device:CPU:0] (DEBUG INFO) Executor start aborting (this does not indicate an error and you can ignore this message): INVALID_ARGUMENT: You must feed a value for placeholder tensor 'gradients/split_1_grad/concat/split_1/split_dim' with dtype int32\n",
      "\t [[{{node gradients/split_1_grad/concat/split_1/split_dim}}]]\n",
      "2023-07-23 11:39:07.678888: I tensorflow/core/common_runtime/executor.cc:1197] [/device:CPU:0] (DEBUG INFO) Executor start aborting (this does not indicate an error and you can ignore this message): INVALID_ARGUMENT: You must feed a value for placeholder tensor 'gradients/ReverseV2_grad/ReverseV2/ReverseV2/axis' with dtype int32 and shape [1]\n",
      "\t [[{{node gradients/ReverseV2_grad/ReverseV2/ReverseV2/axis}}]]\n",
      "2023-07-23 11:39:07.716889: I tensorflow/core/common_runtime/executor.cc:1197] [/device:CPU:0] (DEBUG INFO) Executor start aborting (this does not indicate an error and you can ignore this message): INVALID_ARGUMENT: You must feed a value for placeholder tensor 'gradients/split_2_grad/concat/split_2/split_dim' with dtype int32\n",
      "\t [[{{node gradients/split_2_grad/concat/split_2/split_dim}}]]\n",
      "2023-07-23 11:39:07.718176: I tensorflow/core/common_runtime/executor.cc:1197] [/device:CPU:0] (DEBUG INFO) Executor start aborting (this does not indicate an error and you can ignore this message): INVALID_ARGUMENT: You must feed a value for placeholder tensor 'gradients/split_grad/concat/split/split_dim' with dtype int32\n",
      "\t [[{{node gradients/split_grad/concat/split/split_dim}}]]\n",
      "2023-07-23 11:39:07.719388: I tensorflow/core/common_runtime/executor.cc:1197] [/device:CPU:0] (DEBUG INFO) Executor start aborting (this does not indicate an error and you can ignore this message): INVALID_ARGUMENT: You must feed a value for placeholder tensor 'gradients/split_1_grad/concat/split_1/split_dim' with dtype int32\n",
      "\t [[{{node gradients/split_1_grad/concat/split_1/split_dim}}]]\n",
      "2023-07-23 11:39:07.888710: I tensorflow/core/common_runtime/executor.cc:1197] [/device:CPU:0] (DEBUG INFO) Executor start aborting (this does not indicate an error and you can ignore this message): INVALID_ARGUMENT: You must feed a value for placeholder tensor 'gradients/split_2_grad/concat/split_2/split_dim' with dtype int32\n",
      "\t [[{{node gradients/split_2_grad/concat/split_2/split_dim}}]]\n",
      "2023-07-23 11:39:07.890388: I tensorflow/core/common_runtime/executor.cc:1197] [/device:CPU:0] (DEBUG INFO) Executor start aborting (this does not indicate an error and you can ignore this message): INVALID_ARGUMENT: You must feed a value for placeholder tensor 'gradients/split_grad/concat/split/split_dim' with dtype int32\n",
      "\t [[{{node gradients/split_grad/concat/split/split_dim}}]]\n",
      "2023-07-23 11:39:07.891994: I tensorflow/core/common_runtime/executor.cc:1197] [/device:CPU:0] (DEBUG INFO) Executor start aborting (this does not indicate an error and you can ignore this message): INVALID_ARGUMENT: You must feed a value for placeholder tensor 'gradients/split_1_grad/concat/split_1/split_dim' with dtype int32\n",
      "\t [[{{node gradients/split_1_grad/concat/split_1/split_dim}}]]\n",
      "2023-07-23 11:39:08.025579: I tensorflow/core/common_runtime/executor.cc:1197] [/device:CPU:0] (DEBUG INFO) Executor start aborting (this does not indicate an error and you can ignore this message): INVALID_ARGUMENT: You must feed a value for placeholder tensor 'gradients/ReverseV2_grad/ReverseV2/ReverseV2/axis' with dtype int32 and shape [1]\n",
      "\t [[{{node gradients/ReverseV2_grad/ReverseV2/ReverseV2/axis}}]]\n",
      "2023-07-23 11:39:08.073518: I tensorflow/core/common_runtime/executor.cc:1197] [/device:CPU:0] (DEBUG INFO) Executor start aborting (this does not indicate an error and you can ignore this message): INVALID_ARGUMENT: You must feed a value for placeholder tensor 'gradients/split_2_grad/concat/split_2/split_dim' with dtype int32\n",
      "\t [[{{node gradients/split_2_grad/concat/split_2/split_dim}}]]\n",
      "2023-07-23 11:39:08.075000: I tensorflow/core/common_runtime/executor.cc:1197] [/device:CPU:0] (DEBUG INFO) Executor start aborting (this does not indicate an error and you can ignore this message): INVALID_ARGUMENT: You must feed a value for placeholder tensor 'gradients/split_grad/concat/split/split_dim' with dtype int32\n",
      "\t [[{{node gradients/split_grad/concat/split/split_dim}}]]\n",
      "2023-07-23 11:39:08.076331: I tensorflow/core/common_runtime/executor.cc:1197] [/device:CPU:0] (DEBUG INFO) Executor start aborting (this does not indicate an error and you can ignore this message): INVALID_ARGUMENT: You must feed a value for placeholder tensor 'gradients/split_1_grad/concat/split_1/split_dim' with dtype int32\n",
      "\t [[{{node gradients/split_1_grad/concat/split_1/split_dim}}]]\n",
      "2023-07-23 11:39:08.529834: I tensorflow/core/common_runtime/executor.cc:1197] [/device:CPU:0] (DEBUG INFO) Executor start aborting (this does not indicate an error and you can ignore this message): INVALID_ARGUMENT: You must feed a value for placeholder tensor 'gradients/ReverseV2_grad/ReverseV2/ReverseV2/axis' with dtype int32 and shape [1]\n",
      "\t [[{{node gradients/ReverseV2_grad/ReverseV2/ReverseV2/axis}}]]\n",
      "2023-07-23 11:39:08.932881: I tensorflow/core/common_runtime/executor.cc:1197] [/device:CPU:0] (DEBUG INFO) Executor start aborting (this does not indicate an error and you can ignore this message): INVALID_ARGUMENT: You must feed a value for placeholder tensor 'gradients/ReverseV2_grad/ReverseV2/ReverseV2/axis' with dtype int32 and shape [1]\n",
      "\t [[{{node gradients/ReverseV2_grad/ReverseV2/ReverseV2/axis}}]]\n",
      "2023-07-23 11:39:09.365952: I tensorflow/core/common_runtime/executor.cc:1197] [/device:CPU:0] (DEBUG INFO) Executor start aborting (this does not indicate an error and you can ignore this message): INVALID_ARGUMENT: You must feed a value for placeholder tensor 'gradients/split_2_grad/concat/split_2/split_dim' with dtype int32\n",
      "\t [[{{node gradients/split_2_grad/concat/split_2/split_dim}}]]\n",
      "2023-07-23 11:39:09.367273: I tensorflow/core/common_runtime/executor.cc:1197] [/device:CPU:0] (DEBUG INFO) Executor start aborting (this does not indicate an error and you can ignore this message): INVALID_ARGUMENT: You must feed a value for placeholder tensor 'gradients/split_grad/concat/split/split_dim' with dtype int32\n",
      "\t [[{{node gradients/split_grad/concat/split/split_dim}}]]\n",
      "2023-07-23 11:39:09.368209: I tensorflow/core/common_runtime/executor.cc:1197] [/device:CPU:0] (DEBUG INFO) Executor start aborting (this does not indicate an error and you can ignore this message): INVALID_ARGUMENT: You must feed a value for placeholder tensor 'gradients/split_1_grad/concat/split_1/split_dim' with dtype int32\n",
      "\t [[{{node gradients/split_1_grad/concat/split_1/split_dim}}]]\n",
      "2023-07-23 11:39:09.470039: I tensorflow/core/common_runtime/executor.cc:1197] [/device:CPU:0] (DEBUG INFO) Executor start aborting (this does not indicate an error and you can ignore this message): INVALID_ARGUMENT: You must feed a value for placeholder tensor 'gradients/ReverseV2_grad/ReverseV2/ReverseV2/axis' with dtype int32 and shape [1]\n",
      "\t [[{{node gradients/ReverseV2_grad/ReverseV2/ReverseV2/axis}}]]\n",
      "2023-07-23 11:39:09.505803: I tensorflow/core/common_runtime/executor.cc:1197] [/device:CPU:0] (DEBUG INFO) Executor start aborting (this does not indicate an error and you can ignore this message): INVALID_ARGUMENT: You must feed a value for placeholder tensor 'gradients/split_2_grad/concat/split_2/split_dim' with dtype int32\n",
      "\t [[{{node gradients/split_2_grad/concat/split_2/split_dim}}]]\n",
      "2023-07-23 11:39:09.507052: I tensorflow/core/common_runtime/executor.cc:1197] [/device:CPU:0] (DEBUG INFO) Executor start aborting (this does not indicate an error and you can ignore this message): INVALID_ARGUMENT: You must feed a value for placeholder tensor 'gradients/split_grad/concat/split/split_dim' with dtype int32\n",
      "\t [[{{node gradients/split_grad/concat/split/split_dim}}]]\n",
      "2023-07-23 11:39:09.508142: I tensorflow/core/common_runtime/executor.cc:1197] [/device:CPU:0] (DEBUG INFO) Executor start aborting (this does not indicate an error and you can ignore this message): INVALID_ARGUMENT: You must feed a value for placeholder tensor 'gradients/split_1_grad/concat/split_1/split_dim' with dtype int32\n",
      "\t [[{{node gradients/split_1_grad/concat/split_1/split_dim}}]]\n",
      "2023-07-23 11:39:09.652828: I tensorflow/core/common_runtime/executor.cc:1197] [/device:CPU:0] (DEBUG INFO) Executor start aborting (this does not indicate an error and you can ignore this message): INVALID_ARGUMENT: You must feed a value for placeholder tensor 'gradients/split_2_grad/concat/split_2/split_dim' with dtype int32\n",
      "\t [[{{node gradients/split_2_grad/concat/split_2/split_dim}}]]\n",
      "2023-07-23 11:39:09.654243: I tensorflow/core/common_runtime/executor.cc:1197] [/device:CPU:0] (DEBUG INFO) Executor start aborting (this does not indicate an error and you can ignore this message): INVALID_ARGUMENT: You must feed a value for placeholder tensor 'gradients/split_grad/concat/split/split_dim' with dtype int32\n",
      "\t [[{{node gradients/split_grad/concat/split/split_dim}}]]\n",
      "2023-07-23 11:39:09.655281: I tensorflow/core/common_runtime/executor.cc:1197] [/device:CPU:0] (DEBUG INFO) Executor start aborting (this does not indicate an error and you can ignore this message): INVALID_ARGUMENT: You must feed a value for placeholder tensor 'gradients/split_1_grad/concat/split_1/split_dim' with dtype int32\n",
      "\t [[{{node gradients/split_1_grad/concat/split_1/split_dim}}]]\n",
      "2023-07-23 11:39:09.765932: I tensorflow/core/common_runtime/executor.cc:1197] [/device:CPU:0] (DEBUG INFO) Executor start aborting (this does not indicate an error and you can ignore this message): INVALID_ARGUMENT: You must feed a value for placeholder tensor 'gradients/ReverseV2_grad/ReverseV2/ReverseV2/axis' with dtype int32 and shape [1]\n",
      "\t [[{{node gradients/ReverseV2_grad/ReverseV2/ReverseV2/axis}}]]\n",
      "2023-07-23 11:39:09.800727: I tensorflow/core/common_runtime/executor.cc:1197] [/device:CPU:0] (DEBUG INFO) Executor start aborting (this does not indicate an error and you can ignore this message): INVALID_ARGUMENT: You must feed a value for placeholder tensor 'gradients/split_2_grad/concat/split_2/split_dim' with dtype int32\n",
      "\t [[{{node gradients/split_2_grad/concat/split_2/split_dim}}]]\n",
      "2023-07-23 11:39:09.801869: I tensorflow/core/common_runtime/executor.cc:1197] [/device:CPU:0] (DEBUG INFO) Executor start aborting (this does not indicate an error and you can ignore this message): INVALID_ARGUMENT: You must feed a value for placeholder tensor 'gradients/split_grad/concat/split/split_dim' with dtype int32\n",
      "\t [[{{node gradients/split_grad/concat/split/split_dim}}]]\n",
      "2023-07-23 11:39:09.802827: I tensorflow/core/common_runtime/executor.cc:1197] [/device:CPU:0] (DEBUG INFO) Executor start aborting (this does not indicate an error and you can ignore this message): INVALID_ARGUMENT: You must feed a value for placeholder tensor 'gradients/split_1_grad/concat/split_1/split_dim' with dtype int32\n",
      "\t [[{{node gradients/split_1_grad/concat/split_1/split_dim}}]]\n",
      "2023-07-23 11:39:10.163845: I tensorflow/core/common_runtime/executor.cc:1197] [/device:CPU:0] (DEBUG INFO) Executor start aborting (this does not indicate an error and you can ignore this message): INVALID_ARGUMENT: You must feed a value for placeholder tensor 'gradients/ReverseV2_grad/ReverseV2/ReverseV2/axis' with dtype int32 and shape [1]\n",
      "\t [[{{node gradients/ReverseV2_grad/ReverseV2/ReverseV2/axis}}]]\n",
      "2023-07-23 11:39:10.480765: I tensorflow/core/common_runtime/executor.cc:1197] [/device:CPU:0] (DEBUG INFO) Executor start aborting (this does not indicate an error and you can ignore this message): INVALID_ARGUMENT: You must feed a value for placeholder tensor 'gradients/ReverseV2_grad/ReverseV2/ReverseV2/axis' with dtype int32 and shape [1]\n",
      "\t [[{{node gradients/ReverseV2_grad/ReverseV2/ReverseV2/axis}}]]\n"
     ]
    },
    {
     "name": "stdout",
     "output_type": "stream",
     "text": [
      "447/450 [============================>.] - ETA: 0s - loss: 1.5892 - accuracy: 0.3245"
     ]
    },
    {
     "name": "stderr",
     "output_type": "stream",
     "text": [
      "2023-07-23 11:39:19.516630: I tensorflow/core/common_runtime/executor.cc:1197] [/device:CPU:0] (DEBUG INFO) Executor start aborting (this does not indicate an error and you can ignore this message): INVALID_ARGUMENT: You must feed a value for placeholder tensor 'gradients/split_2_grad/concat/split_2/split_dim' with dtype int32\n",
      "\t [[{{node gradients/split_2_grad/concat/split_2/split_dim}}]]\n",
      "2023-07-23 11:39:19.517898: I tensorflow/core/common_runtime/executor.cc:1197] [/device:CPU:0] (DEBUG INFO) Executor start aborting (this does not indicate an error and you can ignore this message): INVALID_ARGUMENT: You must feed a value for placeholder tensor 'gradients/split_grad/concat/split/split_dim' with dtype int32\n",
      "\t [[{{node gradients/split_grad/concat/split/split_dim}}]]\n",
      "2023-07-23 11:39:19.518825: I tensorflow/core/common_runtime/executor.cc:1197] [/device:CPU:0] (DEBUG INFO) Executor start aborting (this does not indicate an error and you can ignore this message): INVALID_ARGUMENT: You must feed a value for placeholder tensor 'gradients/split_1_grad/concat/split_1/split_dim' with dtype int32\n",
      "\t [[{{node gradients/split_1_grad/concat/split_1/split_dim}}]]\n",
      "2023-07-23 11:39:19.600754: I tensorflow/core/common_runtime/executor.cc:1197] [/device:CPU:0] (DEBUG INFO) Executor start aborting (this does not indicate an error and you can ignore this message): INVALID_ARGUMENT: You must feed a value for placeholder tensor 'gradients/ReverseV2_grad/ReverseV2/ReverseV2/axis' with dtype int32 and shape [1]\n",
      "\t [[{{node gradients/ReverseV2_grad/ReverseV2/ReverseV2/axis}}]]\n",
      "2023-07-23 11:39:19.636408: I tensorflow/core/common_runtime/executor.cc:1197] [/device:CPU:0] (DEBUG INFO) Executor start aborting (this does not indicate an error and you can ignore this message): INVALID_ARGUMENT: You must feed a value for placeholder tensor 'gradients/split_2_grad/concat/split_2/split_dim' with dtype int32\n",
      "\t [[{{node gradients/split_2_grad/concat/split_2/split_dim}}]]\n",
      "2023-07-23 11:39:19.638468: I tensorflow/core/common_runtime/executor.cc:1197] [/device:CPU:0] (DEBUG INFO) Executor start aborting (this does not indicate an error and you can ignore this message): INVALID_ARGUMENT: You must feed a value for placeholder tensor 'gradients/split_grad/concat/split/split_dim' with dtype int32\n",
      "\t [[{{node gradients/split_grad/concat/split/split_dim}}]]\n",
      "2023-07-23 11:39:19.641193: I tensorflow/core/common_runtime/executor.cc:1197] [/device:CPU:0] (DEBUG INFO) Executor start aborting (this does not indicate an error and you can ignore this message): INVALID_ARGUMENT: You must feed a value for placeholder tensor 'gradients/split_1_grad/concat/split_1/split_dim' with dtype int32\n",
      "\t [[{{node gradients/split_1_grad/concat/split_1/split_dim}}]]\n",
      "2023-07-23 11:39:19.793979: I tensorflow/core/common_runtime/executor.cc:1197] [/device:CPU:0] (DEBUG INFO) Executor start aborting (this does not indicate an error and you can ignore this message): INVALID_ARGUMENT: You must feed a value for placeholder tensor 'gradients/split_2_grad/concat/split_2/split_dim' with dtype int32\n",
      "\t [[{{node gradients/split_2_grad/concat/split_2/split_dim}}]]\n",
      "2023-07-23 11:39:19.795293: I tensorflow/core/common_runtime/executor.cc:1197] [/device:CPU:0] (DEBUG INFO) Executor start aborting (this does not indicate an error and you can ignore this message): INVALID_ARGUMENT: You must feed a value for placeholder tensor 'gradients/split_grad/concat/split/split_dim' with dtype int32\n",
      "\t [[{{node gradients/split_grad/concat/split/split_dim}}]]\n",
      "2023-07-23 11:39:19.796392: I tensorflow/core/common_runtime/executor.cc:1197] [/device:CPU:0] (DEBUG INFO) Executor start aborting (this does not indicate an error and you can ignore this message): INVALID_ARGUMENT: You must feed a value for placeholder tensor 'gradients/split_1_grad/concat/split_1/split_dim' with dtype int32\n",
      "\t [[{{node gradients/split_1_grad/concat/split_1/split_dim}}]]\n",
      "2023-07-23 11:39:19.882639: I tensorflow/core/common_runtime/executor.cc:1197] [/device:CPU:0] (DEBUG INFO) Executor start aborting (this does not indicate an error and you can ignore this message): INVALID_ARGUMENT: You must feed a value for placeholder tensor 'gradients/ReverseV2_grad/ReverseV2/ReverseV2/axis' with dtype int32 and shape [1]\n",
      "\t [[{{node gradients/ReverseV2_grad/ReverseV2/ReverseV2/axis}}]]\n",
      "2023-07-23 11:39:19.911548: I tensorflow/core/common_runtime/executor.cc:1197] [/device:CPU:0] (DEBUG INFO) Executor start aborting (this does not indicate an error and you can ignore this message): INVALID_ARGUMENT: You must feed a value for placeholder tensor 'gradients/split_2_grad/concat/split_2/split_dim' with dtype int32\n",
      "\t [[{{node gradients/split_2_grad/concat/split_2/split_dim}}]]\n",
      "2023-07-23 11:39:19.912483: I tensorflow/core/common_runtime/executor.cc:1197] [/device:CPU:0] (DEBUG INFO) Executor start aborting (this does not indicate an error and you can ignore this message): INVALID_ARGUMENT: You must feed a value for placeholder tensor 'gradients/split_grad/concat/split/split_dim' with dtype int32\n",
      "\t [[{{node gradients/split_grad/concat/split/split_dim}}]]\n",
      "2023-07-23 11:39:19.913401: I tensorflow/core/common_runtime/executor.cc:1197] [/device:CPU:0] (DEBUG INFO) Executor start aborting (this does not indicate an error and you can ignore this message): INVALID_ARGUMENT: You must feed a value for placeholder tensor 'gradients/split_1_grad/concat/split_1/split_dim' with dtype int32\n",
      "\t [[{{node gradients/split_1_grad/concat/split_1/split_dim}}]]\n"
     ]
    },
    {
     "name": "stdout",
     "output_type": "stream",
     "text": [
      "450/450 [==============================] - 13s 19ms/step - loss: 1.5887 - accuracy: 0.3245 - val_loss: 1.5781 - val_accuracy: 0.3187\n",
      "Epoch 2/30\n",
      "450/450 [==============================] - 7s 16ms/step - loss: 1.5788 - accuracy: 0.3343 - val_loss: 1.5724 - val_accuracy: 0.3194\n",
      "Epoch 3/30\n",
      "450/450 [==============================] - 7s 16ms/step - loss: 1.5516 - accuracy: 0.3414 - val_loss: 1.5974 - val_accuracy: 0.3187\n",
      "Epoch 4/30\n",
      "450/450 [==============================] - 7s 16ms/step - loss: 1.4944 - accuracy: 0.3667 - val_loss: 1.6195 - val_accuracy: 0.3194\n",
      "Epoch 5/30\n",
      "450/450 [==============================] - 7s 16ms/step - loss: 1.4302 - accuracy: 0.3974 - val_loss: 1.6944 - val_accuracy: 0.3175\n",
      "Epoch 6/30\n",
      "450/450 [==============================] - 7s 16ms/step - loss: 1.4042 - accuracy: 0.4052 - val_loss: 1.7299 - val_accuracy: 0.3169\n",
      "Epoch 7/30\n",
      "450/450 [==============================] - 7s 16ms/step - loss: 1.3961 - accuracy: 0.4110 - val_loss: 1.7905 - val_accuracy: 0.3094\n",
      "Epoch 8/30\n",
      "450/450 [==============================] - 7s 17ms/step - loss: 1.3927 - accuracy: 0.4139 - val_loss: 1.8632 - val_accuracy: 0.3137\n",
      "Epoch 9/30\n",
      "450/450 [==============================] - 7s 16ms/step - loss: 1.3924 - accuracy: 0.4114 - val_loss: 1.8036 - val_accuracy: 0.3137\n"
     ]
    }
   ],
   "source": [
    "tf.keras.backend.clear_session()\n",
    "\n",
    "early = tf.keras.callbacks.EarlyStopping(patience=7, restore_best_weights=True)\n",
    "\n",
    "model.compile(loss='sparse_categorical_crossentropy', optimizer='adam', metrics=['accuracy'])\n",
    "\n",
    "history = model.fit(train_x, train_y,\n",
    "                    epochs=30,\n",
    "                    batch_size=32,\n",
    "                    # validation_data= [test_x,test_y],\n",
    "                    validation_split=0.1,\n",
    "                    callbacks=[early])"
   ],
   "metadata": {
    "collapsed": false,
    "ExecuteTime": {
     "end_time": "2023-07-23T09:40:17.873875183Z",
     "start_time": "2023-07-23T09:39:07.353787675Z"
    }
   }
  },
  {
   "cell_type": "markdown",
   "source": [
    "# Evaluation"
   ],
   "metadata": {
    "collapsed": false
   }
  },
  {
   "cell_type": "code",
   "execution_count": 69,
   "outputs": [
    {
     "name": "stderr",
     "output_type": "stream",
     "text": [
      "2023-07-23 11:40:17.998757: I tensorflow/core/common_runtime/executor.cc:1197] [/device:CPU:0] (DEBUG INFO) Executor start aborting (this does not indicate an error and you can ignore this message): INVALID_ARGUMENT: You must feed a value for placeholder tensor 'gradients/split_2_grad/concat/split_2/split_dim' with dtype int32\n",
      "\t [[{{node gradients/split_2_grad/concat/split_2/split_dim}}]]\n",
      "2023-07-23 11:40:18.000381: I tensorflow/core/common_runtime/executor.cc:1197] [/device:CPU:0] (DEBUG INFO) Executor start aborting (this does not indicate an error and you can ignore this message): INVALID_ARGUMENT: You must feed a value for placeholder tensor 'gradients/split_grad/concat/split/split_dim' with dtype int32\n",
      "\t [[{{node gradients/split_grad/concat/split/split_dim}}]]\n",
      "2023-07-23 11:40:18.001468: I tensorflow/core/common_runtime/executor.cc:1197] [/device:CPU:0] (DEBUG INFO) Executor start aborting (this does not indicate an error and you can ignore this message): INVALID_ARGUMENT: You must feed a value for placeholder tensor 'gradients/split_1_grad/concat/split_1/split_dim' with dtype int32\n",
      "\t [[{{node gradients/split_1_grad/concat/split_1/split_dim}}]]\n",
      "2023-07-23 11:40:18.098271: I tensorflow/core/common_runtime/executor.cc:1197] [/device:CPU:0] (DEBUG INFO) Executor start aborting (this does not indicate an error and you can ignore this message): INVALID_ARGUMENT: You must feed a value for placeholder tensor 'gradients/ReverseV2_grad/ReverseV2/ReverseV2/axis' with dtype int32 and shape [1]\n",
      "\t [[{{node gradients/ReverseV2_grad/ReverseV2/ReverseV2/axis}}]]\n",
      "2023-07-23 11:40:18.124626: I tensorflow/core/common_runtime/executor.cc:1197] [/device:CPU:0] (DEBUG INFO) Executor start aborting (this does not indicate an error and you can ignore this message): INVALID_ARGUMENT: You must feed a value for placeholder tensor 'gradients/split_2_grad/concat/split_2/split_dim' with dtype int32\n",
      "\t [[{{node gradients/split_2_grad/concat/split_2/split_dim}}]]\n",
      "2023-07-23 11:40:18.125552: I tensorflow/core/common_runtime/executor.cc:1197] [/device:CPU:0] (DEBUG INFO) Executor start aborting (this does not indicate an error and you can ignore this message): INVALID_ARGUMENT: You must feed a value for placeholder tensor 'gradients/split_grad/concat/split/split_dim' with dtype int32\n",
      "\t [[{{node gradients/split_grad/concat/split/split_dim}}]]\n",
      "2023-07-23 11:40:18.126446: I tensorflow/core/common_runtime/executor.cc:1197] [/device:CPU:0] (DEBUG INFO) Executor start aborting (this does not indicate an error and you can ignore this message): INVALID_ARGUMENT: You must feed a value for placeholder tensor 'gradients/split_1_grad/concat/split_1/split_dim' with dtype int32\n",
      "\t [[{{node gradients/split_1_grad/concat/split_1/split_dim}}]]\n",
      "2023-07-23 11:40:18.273769: I tensorflow/core/common_runtime/executor.cc:1197] [/device:CPU:0] (DEBUG INFO) Executor start aborting (this does not indicate an error and you can ignore this message): INVALID_ARGUMENT: You must feed a value for placeholder tensor 'gradients/split_2_grad/concat/split_2/split_dim' with dtype int32\n",
      "\t [[{{node gradients/split_2_grad/concat/split_2/split_dim}}]]\n",
      "2023-07-23 11:40:18.274908: I tensorflow/core/common_runtime/executor.cc:1197] [/device:CPU:0] (DEBUG INFO) Executor start aborting (this does not indicate an error and you can ignore this message): INVALID_ARGUMENT: You must feed a value for placeholder tensor 'gradients/split_grad/concat/split/split_dim' with dtype int32\n",
      "\t [[{{node gradients/split_grad/concat/split/split_dim}}]]\n",
      "2023-07-23 11:40:18.275920: I tensorflow/core/common_runtime/executor.cc:1197] [/device:CPU:0] (DEBUG INFO) Executor start aborting (this does not indicate an error and you can ignore this message): INVALID_ARGUMENT: You must feed a value for placeholder tensor 'gradients/split_1_grad/concat/split_1/split_dim' with dtype int32\n",
      "\t [[{{node gradients/split_1_grad/concat/split_1/split_dim}}]]\n",
      "2023-07-23 11:40:18.373338: I tensorflow/core/common_runtime/executor.cc:1197] [/device:CPU:0] (DEBUG INFO) Executor start aborting (this does not indicate an error and you can ignore this message): INVALID_ARGUMENT: You must feed a value for placeholder tensor 'gradients/ReverseV2_grad/ReverseV2/ReverseV2/axis' with dtype int32 and shape [1]\n",
      "\t [[{{node gradients/ReverseV2_grad/ReverseV2/ReverseV2/axis}}]]\n",
      "2023-07-23 11:40:18.400480: I tensorflow/core/common_runtime/executor.cc:1197] [/device:CPU:0] (DEBUG INFO) Executor start aborting (this does not indicate an error and you can ignore this message): INVALID_ARGUMENT: You must feed a value for placeholder tensor 'gradients/split_2_grad/concat/split_2/split_dim' with dtype int32\n",
      "\t [[{{node gradients/split_2_grad/concat/split_2/split_dim}}]]\n",
      "2023-07-23 11:40:18.401466: I tensorflow/core/common_runtime/executor.cc:1197] [/device:CPU:0] (DEBUG INFO) Executor start aborting (this does not indicate an error and you can ignore this message): INVALID_ARGUMENT: You must feed a value for placeholder tensor 'gradients/split_grad/concat/split/split_dim' with dtype int32\n",
      "\t [[{{node gradients/split_grad/concat/split/split_dim}}]]\n",
      "2023-07-23 11:40:18.402300: I tensorflow/core/common_runtime/executor.cc:1197] [/device:CPU:0] (DEBUG INFO) Executor start aborting (this does not indicate an error and you can ignore this message): INVALID_ARGUMENT: You must feed a value for placeholder tensor 'gradients/split_1_grad/concat/split_1/split_dim' with dtype int32\n",
      "\t [[{{node gradients/split_1_grad/concat/split_1/split_dim}}]]\n"
     ]
    },
    {
     "name": "stdout",
     "output_type": "stream",
     "text": [
      "63/63 [==============================] - 1s 2ms/step - loss: 1.5653 - accuracy: 0.3452\n",
      "Test Loss: 1.5652753114700317\n",
      "Test Accuracy: 0.34517258405685425\n"
     ]
    }
   ],
   "source": [
    "loss, accuracy = model.evaluate(test_x, test_y)\n",
    "\n",
    "print('Test Loss:', loss)\n",
    "print('Test Accuracy:', accuracy)"
   ],
   "metadata": {
    "collapsed": false,
    "ExecuteTime": {
     "end_time": "2023-07-23T09:40:18.761193053Z",
     "start_time": "2023-07-23T09:40:17.874326853Z"
    }
   }
  },
  {
   "cell_type": "code",
   "execution_count": 70,
   "outputs": [
    {
     "data": {
      "text/plain": "<Figure size 1152x720 with 2 Axes>",
      "image/png": "[encoded data removed]"
     },
     "metadata": {
      "needs_background": "light"
     },
     "output_type": "display_data"
    }
   ],
   "source": [
    "def plot_results(history):\n",
    "    hist_df = pd.DataFrame(history.history)\n",
    "    hist_df.columns = [\"loss\", \"accuracy\", \"val_loss\", \"val_accuracy\"]\n",
    "    hist_df.index = np.arange(1, len(hist_df) + 1)\n",
    "\n",
    "    fig, axs = plt.subplots(nrows=2, sharex=True, figsize=(16, 10))\n",
    "    axs[0].plot(hist_df.val_accuracy, lw=3, label='Validation Accuracy')\n",
    "    axs[0].plot(hist_df.accuracy, lw=3, label='Training Accuracy')\n",
    "    axs[0].set_ylabel('Accuracy')\n",
    "    axs[0].set_xlabel('Epoch')\n",
    "    axs[0].grid()\n",
    "    axs[0].legend(loc=0)\n",
    "    axs[1].plot(hist_df.val_loss, lw=3, label='Validation Loss')\n",
    "    axs[1].plot(hist_df.loss, lw=3, label='Training Loss')\n",
    "    axs[1].set_ylabel('Loss')\n",
    "    axs[1].set_xlabel('Epoch')\n",
    "    axs[1].grid()\n",
    "    axs[1].legend(loc=0)\n",
    "\n",
    "    plt.show();\n",
    "\n",
    "\n",
    "plot_results(history)"
   ],
   "metadata": {
    "collapsed": false,
    "ExecuteTime": {
     "end_time": "2023-07-23T09:40:18.927266236Z",
     "start_time": "2023-07-23T09:40:18.779797168Z"
    }
   }
  },
  {
   "cell_type": "markdown",
   "source": [
    "# Sample Test"
   ],
   "metadata": {
    "collapsed": false
   }
  },
  {
   "cell_type": "code",
   "execution_count": 71,
   "outputs": [
    {
     "name": "stderr",
     "output_type": "stream",
     "text": [
      "2023-07-23 11:40:19.146485: I tensorflow/core/common_runtime/executor.cc:1197] [/device:CPU:0] (DEBUG INFO) Executor start aborting (this does not indicate an error and you can ignore this message): INVALID_ARGUMENT: You must feed a value for placeholder tensor 'gradients/split_2_grad/concat/split_2/split_dim' with dtype int32\n",
      "\t [[{{node gradients/split_2_grad/concat/split_2/split_dim}}]]\n",
      "2023-07-23 11:40:19.147846: I tensorflow/core/common_runtime/executor.cc:1197] [/device:CPU:0] (DEBUG INFO) Executor start aborting (this does not indicate an error and you can ignore this message): INVALID_ARGUMENT: You must feed a value for placeholder tensor 'gradients/split_grad/concat/split/split_dim' with dtype int32\n",
      "\t [[{{node gradients/split_grad/concat/split/split_dim}}]]\n",
      "2023-07-23 11:40:19.148859: I tensorflow/core/common_runtime/executor.cc:1197] [/device:CPU:0] (DEBUG INFO) Executor start aborting (this does not indicate an error and you can ignore this message): INVALID_ARGUMENT: You must feed a value for placeholder tensor 'gradients/split_1_grad/concat/split_1/split_dim' with dtype int32\n",
      "\t [[{{node gradients/split_1_grad/concat/split_1/split_dim}}]]\n",
      "2023-07-23 11:40:19.318284: I tensorflow/core/common_runtime/executor.cc:1197] [/device:CPU:0] (DEBUG INFO) Executor start aborting (this does not indicate an error and you can ignore this message): INVALID_ARGUMENT: You must feed a value for placeholder tensor 'gradients/ReverseV2_grad/ReverseV2/ReverseV2/axis' with dtype int32 and shape [1]\n",
      "\t [[{{node gradients/ReverseV2_grad/ReverseV2/ReverseV2/axis}}]]\n",
      "2023-07-23 11:40:19.380343: I tensorflow/core/common_runtime/executor.cc:1197] [/device:CPU:0] (DEBUG INFO) Executor start aborting (this does not indicate an error and you can ignore this message): INVALID_ARGUMENT: You must feed a value for placeholder tensor 'gradients/split_2_grad/concat/split_2/split_dim' with dtype int32\n",
      "\t [[{{node gradients/split_2_grad/concat/split_2/split_dim}}]]\n",
      "2023-07-23 11:40:19.381835: I tensorflow/core/common_runtime/executor.cc:1197] [/device:CPU:0] (DEBUG INFO) Executor start aborting (this does not indicate an error and you can ignore this message): INVALID_ARGUMENT: You must feed a value for placeholder tensor 'gradients/split_grad/concat/split/split_dim' with dtype int32\n",
      "\t [[{{node gradients/split_grad/concat/split/split_dim}}]]\n",
      "2023-07-23 11:40:19.383033: I tensorflow/core/common_runtime/executor.cc:1197] [/device:CPU:0] (DEBUG INFO) Executor start aborting (this does not indicate an error and you can ignore this message): INVALID_ARGUMENT: You must feed a value for placeholder tensor 'gradients/split_1_grad/concat/split_1/split_dim' with dtype int32\n",
      "\t [[{{node gradients/split_1_grad/concat/split_1/split_dim}}]]\n",
      "2023-07-23 11:40:19.528039: I tensorflow/core/common_runtime/executor.cc:1197] [/device:CPU:0] (DEBUG INFO) Executor start aborting (this does not indicate an error and you can ignore this message): INVALID_ARGUMENT: You must feed a value for placeholder tensor 'gradients/split_2_grad/concat/split_2/split_dim' with dtype int32\n",
      "\t [[{{node gradients/split_2_grad/concat/split_2/split_dim}}]]\n",
      "2023-07-23 11:40:19.529082: I tensorflow/core/common_runtime/executor.cc:1197] [/device:CPU:0] (DEBUG INFO) Executor start aborting (this does not indicate an error and you can ignore this message): INVALID_ARGUMENT: You must feed a value for placeholder tensor 'gradients/split_grad/concat/split/split_dim' with dtype int32\n",
      "\t [[{{node gradients/split_grad/concat/split/split_dim}}]]\n",
      "2023-07-23 11:40:19.530221: I tensorflow/core/common_runtime/executor.cc:1197] [/device:CPU:0] (DEBUG INFO) Executor start aborting (this does not indicate an error and you can ignore this message): INVALID_ARGUMENT: You must feed a value for placeholder tensor 'gradients/split_1_grad/concat/split_1/split_dim' with dtype int32\n",
      "\t [[{{node gradients/split_1_grad/concat/split_1/split_dim}}]]\n",
      "2023-07-23 11:40:19.640400: I tensorflow/core/common_runtime/executor.cc:1197] [/device:CPU:0] (DEBUG INFO) Executor start aborting (this does not indicate an error and you can ignore this message): INVALID_ARGUMENT: You must feed a value for placeholder tensor 'gradients/ReverseV2_grad/ReverseV2/ReverseV2/axis' with dtype int32 and shape [1]\n",
      "\t [[{{node gradients/ReverseV2_grad/ReverseV2/ReverseV2/axis}}]]\n",
      "2023-07-23 11:40:19.675562: I tensorflow/core/common_runtime/executor.cc:1197] [/device:CPU:0] (DEBUG INFO) Executor start aborting (this does not indicate an error and you can ignore this message): INVALID_ARGUMENT: You must feed a value for placeholder tensor 'gradients/split_2_grad/concat/split_2/split_dim' with dtype int32\n",
      "\t [[{{node gradients/split_2_grad/concat/split_2/split_dim}}]]\n",
      "2023-07-23 11:40:19.676561: I tensorflow/core/common_runtime/executor.cc:1197] [/device:CPU:0] (DEBUG INFO) Executor start aborting (this does not indicate an error and you can ignore this message): INVALID_ARGUMENT: You must feed a value for placeholder tensor 'gradients/split_grad/concat/split/split_dim' with dtype int32\n",
      "\t [[{{node gradients/split_grad/concat/split/split_dim}}]]\n",
      "2023-07-23 11:40:19.677490: I tensorflow/core/common_runtime/executor.cc:1197] [/device:CPU:0] (DEBUG INFO) Executor start aborting (this does not indicate an error and you can ignore this message): INVALID_ARGUMENT: You must feed a value for placeholder tensor 'gradients/split_1_grad/concat/split_1/split_dim' with dtype int32\n",
      "\t [[{{node gradients/split_1_grad/concat/split_1/split_dim}}]]\n"
     ]
    },
    {
     "name": "stdout",
     "output_type": "stream",
     "text": [
      "1/1 [==============================] - 1s 891ms/step\n",
      "Predicted class vs True Class: [joy, sadness]\n",
      "1/1 [==============================] - 0s 13ms/step\n",
      "Predicted class vs True Class: [joy, sadness]\n",
      "1/1 [==============================] - 0s 12ms/step\n",
      "Predicted class vs True Class: [joy, joy]\n",
      "1/1 [==============================] - 0s 12ms/step\n",
      "Predicted class vs True Class: [joy, sadness]\n",
      "1/1 [==============================] - 0s 12ms/step\n",
      "Predicted class vs True Class: [joy, fear]\n",
      "1/1 [==============================] - 0s 16ms/step\n",
      "Predicted class vs True Class: [joy, anger]\n",
      "1/1 [==============================] - 0s 17ms/step\n",
      "Predicted class vs True Class: [joy, joy]\n",
      "1/1 [==============================] - 0s 12ms/step\n",
      "Predicted class vs True Class: [joy, joy]\n",
      "1/1 [==============================] - 0s 13ms/step\n",
      "Predicted class vs True Class: [joy, anger]\n",
      "1/1 [==============================] - 0s 13ms/step\n",
      "Predicted class vs True Class: [joy, fear]\n",
      "1/1 [==============================] - 0s 12ms/step\n",
      "Predicted class vs True Class: [joy, sadness]\n",
      "1/1 [==============================] - 0s 13ms/step\n",
      "Predicted class vs True Class: [joy, fear]\n",
      "1/1 [==============================] - 0s 12ms/step\n",
      "Predicted class vs True Class: [joy, joy]\n",
      "1/1 [==============================] - 0s 12ms/step\n",
      "Predicted class vs True Class: [joy, love]\n",
      "1/1 [==============================] - 0s 14ms/step\n",
      "Predicted class vs True Class: [joy, sadness]\n",
      "1/1 [==============================] - 0s 12ms/step\n",
      "Predicted class vs True Class: [joy, joy]\n",
      "1/1 [==============================] - 0s 12ms/step\n",
      "Predicted class vs True Class: [joy, sadness]\n",
      "1/1 [==============================] - 0s 12ms/step\n",
      "Predicted class vs True Class: [joy, anger]\n",
      "1/1 [==============================] - 0s 11ms/step\n",
      "Predicted class vs True Class: [joy, joy]\n",
      "1/1 [==============================] - 0s 11ms/step\n",
      "Predicted class vs True Class: [joy, sadness]\n",
      "1/1 [==============================] - 0s 11ms/step\n",
      "Predicted class vs True Class: [joy, joy]\n",
      "1/1 [==============================] - 0s 11ms/step\n",
      "Predicted class vs True Class: [joy, joy]\n",
      "1/1 [==============================] - 0s 12ms/step\n",
      "Predicted class vs True Class: [joy, sadness]\n",
      "1/1 [==============================] - 0s 12ms/step\n",
      "Predicted class vs True Class: [joy, sadness]\n",
      "1/1 [==============================] - 0s 13ms/step\n",
      "Predicted class vs True Class: [joy, fear]\n",
      "1/1 [==============================] - 0s 13ms/step\n",
      "Predicted class vs True Class: [joy, anger]\n",
      "1/1 [==============================] - 0s 12ms/step\n",
      "Predicted class vs True Class: [joy, sadness]\n",
      "1/1 [==============================] - 0s 12ms/step\n",
      "Predicted class vs True Class: [joy, fear]\n",
      "1/1 [==============================] - 0s 12ms/step\n",
      "Predicted class vs True Class: [joy, anger]\n",
      "1/1 [==============================] - 0s 12ms/step\n",
      "Predicted class vs True Class: [joy, fear]\n",
      "1/1 [==============================] - 0s 12ms/step\n",
      "Predicted class vs True Class: [joy, anger]\n",
      "1/1 [==============================] - 0s 12ms/step\n",
      "Predicted class vs True Class: [joy, sadness]\n",
      "1/1 [==============================] - 0s 12ms/step\n",
      "Predicted class vs True Class: [joy, anger]\n",
      "1/1 [==============================] - 0s 13ms/step\n",
      "Predicted class vs True Class: [joy, sadness]\n",
      "1/1 [==============================] - 0s 13ms/step\n",
      "Predicted class vs True Class: [joy, joy]\n",
      "1/1 [==============================] - 0s 13ms/step\n",
      "Predicted class vs True Class: [joy, joy]\n",
      "1/1 [==============================] - 0s 12ms/step\n",
      "Predicted class vs True Class: [joy, sadness]\n",
      "1/1 [==============================] - 0s 11ms/step\n",
      "Predicted class vs True Class: [joy, joy]\n",
      "1/1 [==============================] - 0s 12ms/step\n",
      "Predicted class vs True Class: [joy, joy]\n",
      "1/1 [==============================] - 0s 12ms/step\n",
      "Predicted class vs True Class: [joy, anger]\n",
      "1/1 [==============================] - 0s 12ms/step\n",
      "Predicted class vs True Class: [joy, sadness]\n",
      "1/1 [==============================] - 0s 15ms/step\n",
      "Predicted class vs True Class: [joy, joy]\n",
      "1/1 [==============================] - 0s 15ms/step\n",
      "Predicted class vs True Class: [joy, sadness]\n",
      "1/1 [==============================] - 0s 12ms/step\n",
      "Predicted class vs True Class: [joy, joy]\n",
      "1/1 [==============================] - 0s 12ms/step\n",
      "Predicted class vs True Class: [joy, anger]\n",
      "1/1 [==============================] - 0s 15ms/step\n",
      "Predicted class vs True Class: [joy, joy]\n",
      "1/1 [==============================] - 0s 13ms/step\n",
      "Predicted class vs True Class: [joy, joy]\n",
      "1/1 [==============================] - 0s 13ms/step\n",
      "Predicted class vs True Class: [joy, fear]\n",
      "1/1 [==============================] - 0s 13ms/step\n",
      "Predicted class vs True Class: [joy, fear]\n",
      "1/1 [==============================] - 0s 13ms/step\n",
      "Predicted class vs True Class: [joy, sadness]\n",
      "1/1 [==============================] - 0s 14ms/step\n",
      "Predicted class vs True Class: [joy, fear]\n",
      "1/1 [==============================] - 0s 14ms/step\n",
      "Predicted class vs True Class: [joy, joy]\n",
      "1/1 [==============================] - 0s 13ms/step\n",
      "Predicted class vs True Class: [joy, sadness]\n",
      "1/1 [==============================] - 0s 13ms/step\n",
      "Predicted class vs True Class: [joy, joy]\n",
      "1/1 [==============================] - 0s 13ms/step\n",
      "Predicted class vs True Class: [joy, sadness]\n",
      "1/1 [==============================] - 0s 13ms/step\n",
      "Predicted class vs True Class: [joy, sadness]\n",
      "1/1 [==============================] - 0s 13ms/step\n",
      "Predicted class vs True Class: [joy, joy]\n",
      "1/1 [==============================] - 0s 14ms/step\n",
      "Predicted class vs True Class: [joy, sadness]\n",
      "1/1 [==============================] - 0s 17ms/step\n",
      "Predicted class vs True Class: [joy, anger]\n",
      "1/1 [==============================] - 0s 14ms/step\n",
      "Predicted class vs True Class: [joy, sadness]\n",
      "1/1 [==============================] - 0s 13ms/step\n",
      "Predicted class vs True Class: [joy, sadness]\n",
      "1/1 [==============================] - 0s 13ms/step\n",
      "Predicted class vs True Class: [joy, joy]\n",
      "1/1 [==============================] - 0s 14ms/step\n",
      "Predicted class vs True Class: [joy, joy]\n",
      "1/1 [==============================] - 0s 13ms/step\n",
      "Predicted class vs True Class: [joy, sadness]\n",
      "1/1 [==============================] - 0s 13ms/step\n",
      "Predicted class vs True Class: [joy, surprise]\n",
      "1/1 [==============================] - 0s 14ms/step\n",
      "Predicted class vs True Class: [joy, sadness]\n",
      "1/1 [==============================] - 0s 12ms/step\n",
      "Predicted class vs True Class: [joy, anger]\n",
      "1/1 [==============================] - 0s 18ms/step\n",
      "Predicted class vs True Class: [joy, fear]\n",
      "1/1 [==============================] - 0s 17ms/step\n",
      "Predicted class vs True Class: [joy, surprise]\n",
      "1/1 [==============================] - 0s 19ms/step\n",
      "Predicted class vs True Class: [joy, joy]\n",
      "1/1 [==============================] - 0s 17ms/step\n",
      "Predicted class vs True Class: [joy, love]\n",
      "1/1 [==============================] - 0s 17ms/step\n",
      "Predicted class vs True Class: [joy, surprise]\n",
      "1/1 [==============================] - 0s 16ms/step\n",
      "Predicted class vs True Class: [joy, joy]\n",
      "1/1 [==============================] - 0s 15ms/step\n",
      "Predicted class vs True Class: [joy, love]\n",
      "1/1 [==============================] - 0s 15ms/step\n",
      "Predicted class vs True Class: [joy, anger]\n",
      "1/1 [==============================] - 0s 17ms/step\n",
      "Predicted class vs True Class: [joy, joy]\n",
      "1/1 [==============================] - 0s 16ms/step\n",
      "Predicted class vs True Class: [joy, sadness]\n",
      "1/1 [==============================] - 0s 14ms/step\n",
      "Predicted class vs True Class: [joy, joy]\n",
      "1/1 [==============================] - 0s 14ms/step\n",
      "Predicted class vs True Class: [joy, love]\n",
      "1/1 [==============================] - 0s 16ms/step\n",
      "Predicted class vs True Class: [joy, joy]\n",
      "1/1 [==============================] - 0s 15ms/step\n",
      "Predicted class vs True Class: [joy, anger]\n",
      "1/1 [==============================] - 0s 14ms/step\n",
      "Predicted class vs True Class: [joy, sadness]\n",
      "1/1 [==============================] - 0s 14ms/step\n",
      "Predicted class vs True Class: [joy, joy]\n",
      "1/1 [==============================] - 0s 13ms/step\n",
      "Predicted class vs True Class: [joy, sadness]\n",
      "1/1 [==============================] - 0s 13ms/step\n",
      "Predicted class vs True Class: [joy, sadness]\n",
      "1/1 [==============================] - 0s 14ms/step\n",
      "Predicted class vs True Class: [joy, joy]\n",
      "1/1 [==============================] - 0s 14ms/step\n",
      "Predicted class vs True Class: [joy, joy]\n",
      "1/1 [==============================] - 0s 14ms/step\n",
      "Predicted class vs True Class: [joy, joy]\n",
      "1/1 [==============================] - 0s 14ms/step\n",
      "Predicted class vs True Class: [joy, sadness]\n",
      "1/1 [==============================] - 0s 18ms/step\n",
      "Predicted class vs True Class: [joy, joy]\n",
      "1/1 [==============================] - 0s 15ms/step\n",
      "Predicted class vs True Class: [joy, fear]\n",
      "1/1 [==============================] - 0s 14ms/step\n",
      "Predicted class vs True Class: [joy, anger]\n",
      "1/1 [==============================] - 0s 13ms/step\n",
      "Predicted class vs True Class: [joy, fear]\n",
      "1/1 [==============================] - 0s 13ms/step\n",
      "Predicted class vs True Class: [joy, anger]\n",
      "1/1 [==============================] - 0s 12ms/step\n",
      "Predicted class vs True Class: [joy, anger]\n",
      "1/1 [==============================] - 0s 12ms/step\n",
      "Predicted class vs True Class: [joy, love]\n",
      "1/1 [==============================] - 0s 18ms/step\n",
      "Predicted class vs True Class: [joy, sadness]\n",
      "1/1 [==============================] - 0s 13ms/step\n",
      "Predicted class vs True Class: [joy, anger]\n",
      "1/1 [==============================] - 0s 13ms/step\n",
      "Predicted class vs True Class: [joy, sadness]\n",
      "1/1 [==============================] - 0s 13ms/step\n",
      "Predicted class vs True Class: [joy, sadness]\n",
      "\n",
      "sample accuracy = 0.31\n"
     ]
    }
   ],
   "source": [
    "count = 0\n",
    "sample_range = 100\n",
    "for i in range(sample_range):\n",
    "    sample = test_data.iloc[i, 0]\n",
    "    sample_test, _, _ = tokenizer([sample])  # Tokenize the sample as a list\n",
    "\n",
    "    sample_test = pad_sequences(sample_test, maxlen=max_len)  # Pad the sequence to match max_len\n",
    "    test_predict = model.predict(sample_test)\n",
    "    prediction = np.argmax(test_predict)\n",
    "\n",
    "    # After obtaining the predicted class index\n",
    "    predicted_label = label_encoder.inverse_transform([prediction])[0]\n",
    "    true_label = test_data.iloc[i, 1]\n",
    "    if predicted_label == true_label:\n",
    "        count += 1\n",
    "    print(f'Predicted class vs True Class: [{predicted_label}, {true_label}]')\n",
    "\n",
    "print(f'\\nsample accuracy = {count / sample_range}')"
   ],
   "metadata": {
    "collapsed": false,
    "ExecuteTime": {
     "end_time": "2023-07-23T09:40:23.645308296Z",
     "start_time": "2023-07-23T09:40:18.926779031Z"
    }
   }
  },
  {
   "cell_type": "code",
   "execution_count": 71,
   "outputs": [],
   "source": [],
   "metadata": {
    "collapsed": false,
    "ExecuteTime": {
     "end_time": "2023-07-23T09:40:23.646826411Z",
     "start_time": "2023-07-23T09:40:23.645595844Z"
    }
   }
  }
 ],
 "metadata": {
  "kernelspec": {
   "display_name": "Python 3",
   "language": "python",
   "name": "python3"
  },
  "language_info": {
   "codemirror_mode": {
    "name": "ipython",
    "version": 2
   },
   "file_extension": ".py",
   "mimetype": "text/x-python",
   "name": "python",
   "nbconvert_exporter": "python",
   "pygments_lexer": "ipython2",
   "version": "2.7.6"
  }
 },
 "nbformat": 4,
 "nbformat_minor": 0
}
