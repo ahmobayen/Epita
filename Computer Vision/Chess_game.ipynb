{
 "cells": [
  {
   "cell_type": "markdown",
   "metadata": {},
   "source": [
    "# Team Members:\n",
    "- Amirhossein Mobayen\n",
    "\n",
    "## Topic:\n",
    "AI Chess Master"
   ]
  },
  {
   "cell_type": "markdown",
   "metadata": {},
   "source": [
    "# Objective:\n",
    "Build a Vision AI which understands a position by looking at the board!"
   ]
  },
  {
   "cell_type": "code",
   "execution_count": 1,
   "outputs": [
    {
     "name": "stderr",
     "output_type": "stream",
     "text": [
      "2023-07-23 22:56:37.264504: I tensorflow/core/util/port.cc:110] oneDNN custom operations are on. You may see slightly different numerical results due to floating-point round-off errors from different computation orders. To turn them off, set the environment variable `TF_ENABLE_ONEDNN_OPTS=0`.\n",
      "2023-07-23 22:56:37.281425: I tensorflow/tsl/cuda/cudart_stub.cc:28] Could not find cuda drivers on your machine, GPU will not be used.\n",
      "2023-07-23 22:56:37.373816: I tensorflow/tsl/cuda/cudart_stub.cc:28] Could not find cuda drivers on your machine, GPU will not be used.\n",
      "2023-07-23 22:56:37.374675: I tensorflow/core/platform/cpu_feature_guard.cc:182] This TensorFlow binary is optimized to use available CPU instructions in performance-critical operations.\n",
      "To enable the following instructions: AVX2 AVX512F AVX512_VNNI FMA, in other operations, rebuild TensorFlow with the appropriate compiler flags.\n",
      "2023-07-23 22:56:38.101319: W tensorflow/compiler/tf2tensorrt/utils/py_utils.cc:38] TF-TRT Warning: Could not find TensorRT\n"
     ]
    },
    {
     "name": "stdout",
     "output_type": "stream",
     "text": [
      "[]\n"
     ]
    },
    {
     "name": "stderr",
     "output_type": "stream",
     "text": [
      "2023-07-23 22:56:39.225828: I tensorflow/compiler/xla/stream_executor/cuda/cuda_gpu_executor.cc:996] successful NUMA node read from SysFS had negative value (-1), but there must be at least one NUMA node, so returning NUMA node zero. See more at https://github.com/torvalds/linux/blob/v6.0/Documentation/ABI/testing/sysfs-bus-pci#L344-L355\n",
      "2023-07-23 22:56:39.226322: W tensorflow/core/common_runtime/gpu/gpu_device.cc:1956] Cannot dlopen some GPU libraries. Please make sure the missing libraries mentioned above are installed properly if you would like to use GPU. Follow the guide at https://www.tensorflow.org/install/gpu for how to download and setup the required libraries for your platform.\n",
      "Skipping registering GPU devices...\n"
     ]
    }
   ],
   "source": [
    "import os\n",
    "\n",
    "# Basic packages\n",
    "import numpy as np\n",
    "import pandas as pd\n",
    "\n",
    "import matplotlib.pyplot as plt\n",
    "import tensorflow as tf\n",
    "\n",
    "from PIL import Image, ImageOps\n",
    "from sklearn.preprocessing import OneHotEncoder\n",
    "\n",
    "from IPython.display import display\n",
    "\n",
    "print(tf.config.list_physical_devices('GPU'))"
   ],
   "metadata": {
    "collapsed": false,
    "ExecuteTime": {
     "end_time": "2023-07-23T20:56:39.229551199Z",
     "start_time": "2023-07-23T20:56:36.343023132Z"
    }
   }
  },
  {
   "cell_type": "markdown",
   "metadata": {},
   "source": [
    "# Step 1: Dataset Preparation\n"
   ]
  },
  {
   "cell_type": "code",
   "execution_count": 2,
   "metadata": {
    "ExecuteTime": {
     "end_time": "2023-07-23T20:56:51.254586311Z",
     "start_time": "2023-07-23T20:56:51.248790738Z"
    }
   },
   "outputs": [],
   "source": [
    "# Download the dataset from Kaggle and extract the relevant files.\n",
    "# URL: https://www.kaggle.com/koryakinp/chess-positions\n",
    "\n",
    "# Define the input image size for the model\n",
    "img_height, img_width = 256, 256\n",
    "batch_size = 32\n",
    "\n",
    "# Define the path to the dataset directory\n",
    "train_dir = './dataset/train/'\n",
    "test_dir = './dataset/test/'"
   ]
  },
  {
   "cell_type": "markdown",
   "metadata": {},
   "source": [
    "# Step 2: Data Preprocessing"
   ]
  },
  {
   "cell_type": "code",
   "execution_count": 3,
   "outputs": [],
   "source": [
    "def crop_image(img):\n",
    "    rows, columns = 8, 8\n",
    "    # Calculate the width and height of each cropped region\n",
    "    crop_width = img_width // columns\n",
    "    crop_height = img_height // rows\n",
    "\n",
    "    # Use list comprehension to crop the image and store the cropped regions in a list\n",
    "    return [img.crop((col * crop_width, row * crop_height, (col + 1) * crop_width, (row + 1) * crop_height))\n",
    "            for row in range(rows) for col in range(columns)]\n",
    "\n",
    "\n",
    "def flatten_comprehension(matrix):\n",
    "    return np.array([item for row in matrix for item in row])\n",
    "\n",
    "\n",
    "def create_chessboard(fen_position):\n",
    "    # Initialize an empty 8x8 chessboard (2D list)\n",
    "    chessboard = [[\".\" for _ in range(8)] for _ in range(8)]\n",
    "\n",
    "    # Translate the FEN string to the chessboard list\n",
    "    rank, file = 7, 0  # Start from the top-left corner (a8)\n",
    "    for char in fen_position:\n",
    "        if char == '-':  # Move to the next rank (row)\n",
    "            rank -= 1\n",
    "            file = 0\n",
    "        elif char.isdigit():  # Empty squares\n",
    "            file += int(char)\n",
    "        elif char.isupper():  # White pieces\n",
    "            chessboard[rank][file] = char\n",
    "            file += 1\n",
    "        elif char.islower():  # Black pieces\n",
    "            chessboard[rank][file] = char\n",
    "            file += 1\n",
    "\n",
    "    return chessboard"
   ],
   "metadata": {
    "collapsed": false,
    "ExecuteTime": {
     "end_time": "2023-07-23T20:56:53.163993337Z",
     "start_time": "2023-07-23T20:56:53.160754663Z"
    }
   }
  },
  {
   "cell_type": "code",
   "execution_count": 5,
   "outputs": [],
   "source": [
    "cells = []\n",
    "labels = []\n",
    "# Iterate over the files in the directory\n",
    "for filename in os.listdir(train_dir):\n",
    "    # Check if the file has a valid image extension\n",
    "    if filename.lower().endswith((\".jpg\", \".jpeg\", \".png\")):\n",
    "        # Open the image and convert it to grayscale\n",
    "        img_gray_scale = ImageOps.grayscale(Image.open(os.path.join(train_dir, filename)))\n",
    "\n",
    "        # Resize the image to the desired width and height\n",
    "        img_resized = img_gray_scale.resize((img_width, img_height), Image.Resampling.LANCZOS)\n",
    "        cells.append(crop_image(img_resized))\n",
    "        labels.append(flatten_comprehension(create_chessboard(filename[:-5])))\n",
    "\n",
    "train_set = np.array(flatten_comprehension(cells))\n",
    "train_label_set = np.array(flatten_comprehension(labels)).reshape(-1, 1)"
   ],
   "metadata": {
    "collapsed": false,
    "ExecuteTime": {
     "end_time": "2023-07-23T20:57:23.645167891Z",
     "start_time": "2023-07-23T20:57:03.796903132Z"
    }
   }
  },
  {
   "cell_type": "code",
   "execution_count": 4,
   "outputs": [],
   "source": [
    "cells = []\n",
    "labels = []\n",
    "# Iterate over the files in the directory\n",
    "for filename in os.listdir(test_dir):\n",
    "    # Check if the file has a valid image extension\n",
    "    if filename.lower().endswith((\".jpg\", \".jpeg\", \".png\")):\n",
    "        # Open the image and convert it to grayscale\n",
    "        img_gray_scale = ImageOps.grayscale(Image.open(os.path.join(test_dir, filename)))\n",
    "\n",
    "        # Resize the image to the desired width and height\n",
    "        img_resized = img_gray_scale.resize((img_width, img_height), Image.Resampling.LANCZOS)\n",
    "        cells.append(crop_image(img_resized))\n",
    "        labels.append(flatten_comprehension(create_chessboard(filename[:-5])))\n",
    "\n",
    "test_set = flatten_comprehension(cells)\n",
    "test_label_set = flatten_comprehension(labels).reshape(-1, 1)"
   ],
   "metadata": {
    "collapsed": false,
    "ExecuteTime": {
     "end_time": "2023-07-23T20:57:02.033512594Z",
     "start_time": "2023-07-23T20:56:56.818346353Z"
    }
   }
  },
  {
   "cell_type": "code",
   "execution_count": 6,
   "outputs": [
    {
     "name": "stdout",
     "output_type": "stream",
     "text": [
      "(512000, 32, 32) (512000, 13) (128000, 32, 32) (128000, 13)\n"
     ]
    }
   ],
   "source": [
    "train_X = train_set / 255.0\n",
    "test_X = test_set / 255.0\n",
    "\n",
    "encoder = OneHotEncoder()\n",
    "train_y = encoder.fit_transform(train_label_set.reshape(-1, 1)).toarray()\n",
    "test_y = encoder.transform(test_label_set.reshape(-1, 1)).toarray()\n",
    "\n",
    "print(train_X.shape, train_y.shape, test_X.shape, test_y.shape)"
   ],
   "metadata": {
    "collapsed": false,
    "ExecuteTime": {
     "end_time": "2023-07-23T20:57:34.622593469Z",
     "start_time": "2023-07-23T20:57:32.972518284Z"
    }
   }
  },
  {
   "cell_type": "markdown",
   "metadata": {},
   "source": [
    "# Step 3: Model Selection and Architecture"
   ]
  },
  {
   "cell_type": "code",
   "execution_count": 7,
   "metadata": {
    "ExecuteTime": {
     "end_time": "2023-07-23T20:12:53.815713779Z",
     "start_time": "2023-07-23T20:12:53.709657Z"
    }
   },
   "outputs": [
    {
     "name": "stdout",
     "output_type": "stream",
     "text": [
      "Model: \"sequential\"\n",
      "_________________________________________________________________\n",
      " Layer (type)                Output Shape              Param #   \n",
      "=================================================================\n",
      " conv2d (Conv2D)             (None, 30, 30, 32)        320       \n",
      "                                                                 \n",
      " max_pooling2d (MaxPooling2D  (None, 15, 15, 32)       0         \n",
      " )                                                               \n",
      "                                                                 \n",
      " flatten (Flatten)           (None, 7200)              0         \n",
      "                                                                 \n",
      " dense (Dense)               (None, 32)                230432    \n",
      "                                                                 \n",
      " dense_1 (Dense)             (None, 13)                429       \n",
      "                                                                 \n",
      "=================================================================\n",
      "Total params: 231,181\n",
      "Trainable params: 231,181\n",
      "Non-trainable params: 0\n",
      "_________________________________________________________________\n"
     ]
    }
   ],
   "source": [
    "model = tf.keras.models.Sequential([\n",
    "    tf.keras.layers.Conv2D(32, (3, 3), activation='relu', input_shape=(32, 32, 1)),\n",
    "    tf.keras.layers.MaxPooling2D(2, 2),\n",
    "    tf.keras.layers.Flatten(),\n",
    "    tf.keras.layers.Dense(32, activation='relu'),\n",
    "    tf.keras.layers.Dense(13, activation='softmax')\n",
    "])\n",
    "\n",
    "model.summary()"
   ]
  },
  {
   "cell_type": "markdown",
   "metadata": {},
   "source": [
    "# Step 4: Model Training"
   ]
  },
  {
   "cell_type": "code",
   "execution_count": 10,
   "metadata": {
    "ExecuteTime": {
     "end_time": "2023-07-23T20:43:42.710071762Z",
     "start_time": "2023-07-23T20:34:29.282228304Z"
    }
   },
   "outputs": [
    {
     "name": "stdout",
     "output_type": "stream",
     "text": [
      "Epoch 1/10\n",
      "8000/8000 [==============================] - 55s 7ms/step - loss: 0.8737 - accuracy: 0.8276 - val_loss: 0.8822 - val_accuracy: 0.8260\n",
      "Epoch 2/10\n",
      "8000/8000 [==============================] - 55s 7ms/step - loss: 0.8733 - accuracy: 0.8276 - val_loss: 0.8850 - val_accuracy: 0.8260\n",
      "Epoch 3/10\n",
      "8000/8000 [==============================] - 55s 7ms/step - loss: 0.8731 - accuracy: 0.8276 - val_loss: 0.8807 - val_accuracy: 0.8260\n",
      "Epoch 4/10\n",
      "8000/8000 [==============================] - 55s 7ms/step - loss: 0.8728 - accuracy: 0.8276 - val_loss: 0.8808 - val_accuracy: 0.8260\n",
      "Epoch 5/10\n",
      "8000/8000 [==============================] - 55s 7ms/step - loss: 0.8726 - accuracy: 0.8276 - val_loss: 0.8817 - val_accuracy: 0.8260\n",
      "Epoch 6/10\n",
      "8000/8000 [==============================] - 54s 7ms/step - loss: 0.8723 - accuracy: 0.8276 - val_loss: 0.8824 - val_accuracy: 0.8260\n",
      "Epoch 7/10\n",
      "8000/8000 [==============================] - 54s 7ms/step - loss: 0.8722 - accuracy: 0.8276 - val_loss: 0.8812 - val_accuracy: 0.8260\n",
      "Epoch 8/10\n",
      "8000/8000 [==============================] - 54s 7ms/step - loss: 0.8720 - accuracy: 0.8276 - val_loss: 0.8804 - val_accuracy: 0.8260\n",
      "Epoch 9/10\n",
      "8000/8000 [==============================] - 55s 7ms/step - loss: 0.8718 - accuracy: 0.8276 - val_loss: 0.8819 - val_accuracy: 0.8260\n",
      "Epoch 10/10\n",
      "8000/8000 [==============================] - 57s 7ms/step - loss: 0.8715 - accuracy: 0.8276 - val_loss: 0.8808 - val_accuracy: 0.8260\n"
     ]
    }
   ],
   "source": [
    "# Clear any previous TensorFlow session\n",
    "tf.keras.backend.clear_session()\n",
    "\n",
    "model.compile(optimizer='adam', loss='categorical_crossentropy', metrics=['accuracy'])\n",
    "\n",
    "early = tf.keras.callbacks.EarlyStopping(patience=7, restore_best_weights=True)\n",
    "\n",
    "history = model.fit(train_X, train_y,\n",
    "                    batch_size=64,\n",
    "                    epochs=10,\n",
    "                    validation_data=[test_X, test_y],\n",
    "                    callbacks=[early])\n"
   ]
  },
  {
   "cell_type": "markdown",
   "metadata": {},
   "source": [
    "# Step 5: Model Evaluation"
   ]
  },
  {
   "cell_type": "code",
   "execution_count": 11,
   "metadata": {
    "ExecuteTime": {
     "end_time": "2023-07-23T20:43:55.063612867Z",
     "start_time": "2023-07-23T20:43:48.007970025Z"
    }
   },
   "outputs": [
    {
     "name": "stdout",
     "output_type": "stream",
     "text": [
      "4000/4000 [==============================] - 4s 1ms/step - loss: 0.8808 - accuracy: 0.8260\n"
     ]
    }
   ],
   "source": [
    "# Evaluate the model on the testing dataset\n",
    "test_loss, test_accuracy = model.evaluate(test_X, test_y)"
   ]
  },
  {
   "cell_type": "code",
   "execution_count": 12,
   "metadata": {
    "ExecuteTime": {
     "end_time": "2023-07-23T20:44:14.448191992Z",
     "start_time": "2023-07-23T20:44:14.106944267Z"
    }
   },
   "outputs": [
    {
     "data": {
      "text/plain": "<Figure size 1152x720 with 2 Axes>",
      "image/png": "[encoded data removed]"
     },
     "metadata": {
      "needs_background": "light"
     },
     "output_type": "display_data"
    }
   ],
   "source": [
    "def plot_results(history):\n",
    "    hist_df = pd.DataFrame(history.history)\n",
    "    hist_df.columns = [\"loss\", \"accuracy\", \"val_loss\", \"val_accuracy\"]\n",
    "    hist_df.index = np.arange(1, len(hist_df) + 1)\n",
    "\n",
    "    fig, axs = plt.subplots(nrows=2, sharex=True, figsize=(16, 10))\n",
    "    axs[0].plot(hist_df.val_accuracy, lw=3, label='Validation Accuracy')\n",
    "    axs[0].plot(hist_df.accuracy, lw=3, label='Training Accuracy')\n",
    "    axs[0].set_ylabel('Accuracy')\n",
    "    axs[0].set_xlabel('Epoch')\n",
    "    axs[0].grid()\n",
    "    axs[0].legend(loc=0)\n",
    "    axs[1].plot(hist_df.val_loss, lw=3, label='Validation Loss')\n",
    "    axs[1].plot(hist_df.loss, lw=3, label='Training Loss')\n",
    "    axs[1].set_ylabel('Loss')\n",
    "    axs[1].set_xlabel('Epoch')\n",
    "    axs[1].grid()\n",
    "    axs[1].legend(loc=0)\n",
    "\n",
    "    plt.show()\n",
    "\n",
    "\n",
    "plot_results(history)"
   ]
  },
  {
   "cell_type": "markdown",
   "metadata": {},
   "source": [
    "# Step 6: Model Deployment"
   ]
  },
  {
   "cell_type": "code",
   "execution_count": null,
   "outputs": [],
   "source": [],
   "metadata": {
    "collapsed": false
   }
  },
  {
   "cell_type": "code",
   "execution_count": 0,
   "metadata": {},
   "outputs": [],
   "source": [
    "# Save the trained model weights for future use\n",
    "model.save('chessboard_model.h5')"
   ]
  },
  {
   "cell_type": "code",
   "execution_count": 7,
   "outputs": [],
   "source": [
    "\n",
    "# Load the saved model\n",
    "loaded_model = tf.keras.models.load_model('chessboard_model.h5')"
   ],
   "metadata": {
    "collapsed": false,
    "ExecuteTime": {
     "end_time": "2023-07-23T20:57:46.679417751Z",
     "start_time": "2023-07-23T20:57:46.568567081Z"
    }
   }
  },
  {
   "cell_type": "markdown",
   "source": [
    "# Sample Test"
   ],
   "metadata": {
    "collapsed": false
   }
  },
  {
   "cell_type": "code",
   "execution_count": 26,
   "outputs": [
    {
     "name": "stdout",
     "output_type": "stream",
     "text": [
      "1/1 [==============================] - 0s 12ms/step\n",
      "predicted value: [['.']]\n",
      "true Value: ['.']\n",
      "---\n",
      "1/1 [==============================] - 0s 12ms/step\n",
      "predicted value: [['.']]\n",
      "true Value: ['.']\n",
      "---\n",
      "1/1 [==============================] - 0s 12ms/step\n",
      "predicted value: [['.']]\n",
      "true Value: ['.']\n",
      "---\n",
      "1/1 [==============================] - 0s 12ms/step\n",
      "predicted value: [['.']]\n",
      "true Value: ['.']\n",
      "---\n",
      "1/1 [==============================] - 0s 11ms/step\n",
      "predicted value: [['.']]\n",
      "true Value: ['.']\n",
      "---\n",
      "1/1 [==============================] - 0s 11ms/step\n",
      "predicted value: [['.']]\n",
      "true Value: ['.']\n",
      "---\n",
      "1/1 [==============================] - 0s 12ms/step\n",
      "predicted value: [['.']]\n",
      "true Value: ['.']\n",
      "---\n",
      "1/1 [==============================] - 0s 15ms/step\n",
      "predicted value: [['.']]\n",
      "true Value: ['.']\n",
      "---\n",
      "1/1 [==============================] - 0s 11ms/step\n",
      "predicted value: [['.']]\n",
      "true Value: ['B']\n",
      "---\n",
      "1/1 [==============================] - 0s 12ms/step\n",
      "predicted value: [['.']]\n",
      "true Value: ['.']\n",
      "---\n",
      "1/1 [==============================] - 0s 16ms/step\n",
      "predicted value: [['.']]\n",
      "true Value: ['.']\n",
      "---\n",
      "1/1 [==============================] - 0s 12ms/step\n",
      "predicted value: [['.']]\n",
      "true Value: ['.']\n",
      "---\n",
      "1/1 [==============================] - 0s 16ms/step\n",
      "predicted value: [['.']]\n",
      "true Value: ['.']\n",
      "---\n",
      "1/1 [==============================] - 0s 13ms/step\n",
      "predicted value: [['.']]\n",
      "true Value: ['k']\n",
      "---\n",
      "1/1 [==============================] - 0s 12ms/step\n",
      "predicted value: [['.']]\n",
      "true Value: ['.']\n",
      "---\n",
      "1/1 [==============================] - 0s 13ms/step\n",
      "predicted value: [['.']]\n",
      "true Value: ['.']\n",
      "---\n",
      "1/1 [==============================] - 0s 12ms/step\n",
      "predicted value: [['.']]\n",
      "true Value: ['.']\n",
      "---\n",
      "1/1 [==============================] - 0s 15ms/step\n",
      "predicted value: [['.']]\n",
      "true Value: ['.']\n",
      "---\n",
      "1/1 [==============================] - 0s 15ms/step\n",
      "predicted value: [['.']]\n",
      "true Value: ['.']\n",
      "---\n",
      "1/1 [==============================] - 0s 12ms/step\n",
      "predicted value: [['.']]\n",
      "true Value: ['.']\n",
      "---\n",
      "1/1 [==============================] - 0s 12ms/step\n",
      "predicted value: [['.']]\n",
      "true Value: ['.']\n",
      "---\n",
      "1/1 [==============================] - 0s 13ms/step\n",
      "predicted value: [['.']]\n",
      "true Value: ['.']\n",
      "---\n",
      "1/1 [==============================] - 0s 12ms/step\n",
      "predicted value: [['.']]\n",
      "true Value: ['.']\n",
      "---\n",
      "1/1 [==============================] - 0s 12ms/step\n",
      "predicted value: [['.']]\n",
      "true Value: ['.']\n",
      "---\n",
      "1/1 [==============================] - 0s 12ms/step\n",
      "predicted value: [['.']]\n",
      "true Value: ['.']\n",
      "---\n",
      "1/1 [==============================] - 0s 12ms/step\n",
      "predicted value: [['.']]\n",
      "true Value: ['.']\n",
      "---\n",
      "1/1 [==============================] - 0s 11ms/step\n",
      "predicted value: [['.']]\n",
      "true Value: ['.']\n",
      "---\n",
      "1/1 [==============================] - 0s 13ms/step\n",
      "predicted value: [['.']]\n",
      "true Value: ['.']\n",
      "---\n",
      "1/1 [==============================] - 0s 12ms/step\n",
      "predicted value: [['.']]\n",
      "true Value: ['.']\n",
      "---\n",
      "1/1 [==============================] - 0s 12ms/step\n",
      "predicted value: [['.']]\n",
      "true Value: ['.']\n",
      "---\n",
      "1/1 [==============================] - 0s 12ms/step\n",
      "predicted value: [['.']]\n",
      "true Value: ['.']\n",
      "---\n",
      "1/1 [==============================] - 0s 12ms/step\n",
      "predicted value: [['.']]\n",
      "true Value: ['.']\n",
      "---\n",
      "1/1 [==============================] - 0s 13ms/step\n",
      "predicted value: [['.']]\n",
      "true Value: ['.']\n",
      "---\n",
      "1/1 [==============================] - 0s 13ms/step\n",
      "predicted value: [['.']]\n",
      "true Value: ['.']\n",
      "---\n",
      "1/1 [==============================] - 0s 12ms/step\n",
      "predicted value: [['.']]\n",
      "true Value: ['.']\n",
      "---\n",
      "1/1 [==============================] - 0s 12ms/step\n",
      "predicted value: [['.']]\n",
      "true Value: ['.']\n",
      "---\n",
      "1/1 [==============================] - 0s 12ms/step\n",
      "predicted value: [['.']]\n",
      "true Value: ['.']\n",
      "---\n",
      "1/1 [==============================] - 0s 12ms/step\n",
      "predicted value: [['.']]\n",
      "true Value: ['.']\n",
      "---\n",
      "1/1 [==============================] - 0s 12ms/step\n",
      "predicted value: [['.']]\n",
      "true Value: ['.']\n",
      "---\n",
      "1/1 [==============================] - 0s 12ms/step\n",
      "predicted value: [['.']]\n",
      "true Value: ['.']\n",
      "---\n",
      "1/1 [==============================] - 0s 12ms/step\n",
      "predicted value: [['.']]\n",
      "true Value: ['.']\n",
      "---\n",
      "1/1 [==============================] - 0s 14ms/step\n",
      "predicted value: [['.']]\n",
      "true Value: ['K']\n",
      "---\n",
      "1/1 [==============================] - 0s 12ms/step\n",
      "predicted value: [['.']]\n",
      "true Value: ['.']\n",
      "---\n",
      "1/1 [==============================] - 0s 11ms/step\n",
      "predicted value: [['.']]\n",
      "true Value: ['.']\n",
      "---\n",
      "1/1 [==============================] - 0s 15ms/step\n",
      "predicted value: [['.']]\n",
      "true Value: ['.']\n",
      "---\n",
      "1/1 [==============================] - 0s 14ms/step\n",
      "predicted value: [['.']]\n",
      "true Value: ['.']\n",
      "---\n",
      "1/1 [==============================] - 0s 12ms/step\n",
      "predicted value: [['.']]\n",
      "true Value: ['.']\n",
      "---\n",
      "1/1 [==============================] - 0s 12ms/step\n",
      "predicted value: [['.']]\n",
      "true Value: ['.']\n",
      "---\n",
      "1/1 [==============================] - 0s 12ms/step\n",
      "predicted value: [['.']]\n",
      "true Value: ['.']\n",
      "---\n",
      "1/1 [==============================] - 0s 15ms/step\n",
      "predicted value: [['.']]\n",
      "true Value: ['.']\n",
      "---\n",
      "1/1 [==============================] - 0s 15ms/step\n",
      "predicted value: [['.']]\n",
      "true Value: ['.']\n",
      "---\n",
      "1/1 [==============================] - 0s 15ms/step\n",
      "predicted value: [['.']]\n",
      "true Value: ['.']\n",
      "---\n",
      "1/1 [==============================] - 0s 15ms/step\n",
      "predicted value: [['.']]\n",
      "true Value: ['.']\n",
      "---\n",
      "1/1 [==============================] - 0s 15ms/step\n",
      "predicted value: [['.']]\n",
      "true Value: ['.']\n",
      "---\n",
      "1/1 [==============================] - 0s 12ms/step\n",
      "predicted value: [['.']]\n",
      "true Value: ['R']\n",
      "---\n",
      "1/1 [==============================] - 0s 12ms/step\n",
      "predicted value: [['.']]\n",
      "true Value: ['.']\n",
      "---\n",
      "1/1 [==============================] - 0s 12ms/step\n",
      "predicted value: [['.']]\n",
      "true Value: ['n']\n",
      "---\n",
      "1/1 [==============================] - 0s 11ms/step\n",
      "predicted value: [['.']]\n",
      "true Value: ['.']\n",
      "---\n",
      "1/1 [==============================] - 0s 11ms/step\n",
      "predicted value: [['.']]\n",
      "true Value: ['.']\n",
      "---\n",
      "1/1 [==============================] - 0s 12ms/step\n",
      "predicted value: [['.']]\n",
      "true Value: ['.']\n",
      "---\n",
      "1/1 [==============================] - 0s 11ms/step\n",
      "predicted value: [['.']]\n",
      "true Value: ['.']\n",
      "---\n",
      "1/1 [==============================] - 0s 12ms/step\n",
      "predicted value: [['.']]\n",
      "true Value: ['.']\n",
      "---\n",
      "1/1 [==============================] - 0s 12ms/step\n",
      "predicted value: [['.']]\n",
      "true Value: ['.']\n",
      "---\n",
      "1/1 [==============================] - 0s 11ms/step\n",
      "predicted value: [['.']]\n",
      "true Value: ['.']\n",
      "---\n"
     ]
    }
   ],
   "source": [
    "# Iterate over a few samples from the validation dataset\n",
    "for idx in range(64):\n",
    "    # Take a single test image from the test set\n",
    "    test_image = test_X[idx]\n",
    "\n",
    "    # Make predictions on the single image\n",
    "    predictions = loaded_model.predict(test_image.reshape(1, 32, 32, 1))\n",
    "    predicted_labels = encoder.inverse_transform(predictions)\n",
    "\n",
    "    print('predicted value:', predicted_labels)\n",
    "    print('true Value:', test_label_set[idx])\n",
    "    print('---')\n"
   ],
   "metadata": {
    "collapsed": false,
    "ExecuteTime": {
     "end_time": "2023-07-23T21:08:46.167991411Z",
     "start_time": "2023-07-23T21:08:44.135738001Z"
    }
   }
  },
  {
   "cell_type": "code",
   "execution_count": null,
   "outputs": [],
   "source": [],
   "metadata": {
    "collapsed": false
   }
  }
 ],
 "metadata": {
  "kernelspec": {
   "display_name": "Python 3 (ipykernel)",
   "language": "python",
   "name": "python3"
  },
  "language_info": {
   "codemirror_mode": {
    "name": "ipython",
    "version": 3
   },
   "file_extension": ".py",
   "mimetype": "text/x-python",
   "name": "python",
   "nbconvert_exporter": "python",
   "pygments_lexer": "ipython3",
   "version": "3.11.4"
  }
 },
 "nbformat": 4,
 "nbformat_minor": 1
}
