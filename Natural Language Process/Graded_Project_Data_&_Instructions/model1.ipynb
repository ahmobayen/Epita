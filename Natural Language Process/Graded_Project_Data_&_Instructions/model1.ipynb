{
 "cells": [
  {
   "cell_type": "markdown",
   "source": [
    "# Team Members:\n",
    "- Amir Mobayen\n",
    "- Leelav Kareem\n",
    "- Nikita Chistyakov\n",
    "\n",
    "## Topic:"
   ],
   "metadata": {
    "collapsed": false
   }
  },
  {
   "cell_type": "markdown",
   "source": [
    "## Libraries"
   ],
   "metadata": {
    "collapsed": false
   }
  },
  {
   "cell_type": "code",
   "execution_count": 1,
   "outputs": [
    {
     "name": "stderr",
     "output_type": "stream",
     "text": [
      "2023-07-15 17:14:41.095239: I tensorflow/core/platform/cpu_feature_guard.cc:182] This TensorFlow binary is optimized to use available CPU instructions in performance-critical operations.\n",
      "To enable the following instructions: SSE4.1 SSE4.2 AVX AVX2 AVX512F AVX512_VNNI FMA, in other operations, rebuild TensorFlow with the appropriate compiler flags.\n"
     ]
    }
   ],
   "source": [
    "# Basic packages\n",
    "import numpy as np\n",
    "import pandas as pd\n",
    "\n",
    "# Plots\n",
    "import matplotlib.pyplot as plt\n",
    "\n",
    "# Tensorflow\n",
    "import tensorflow as tf\n",
    "from tensorflow.keras.preprocessing.text import Tokenizer\n",
    "from tensorflow.keras.utils import pad_sequences\n",
    "\n",
    "# Sklearn\n",
    "from sklearn.preprocessing import LabelEncoder\n",
    "from sklearn.model_selection import train_test_split\n",
    "from sklearn.metrics import mean_squared_error, mean_absolute_error, r2_score\n",
    "\n",
    "tf.get_logger().setLevel('ERROR')\n"
   ],
   "metadata": {
    "collapsed": false,
    "ExecuteTime": {
     "end_time": "2023-07-15T15:14:42.196039063Z",
     "start_time": "2023-07-15T15:14:40.693144345Z"
    }
   }
  },
  {
   "cell_type": "markdown",
   "source": [
    "# About the dataset:\n",
    "List of tweet texts with emotion labels like joy, sadness, fear, anger…\n",
    "Dataset is split into train, test and validation sets for building the machine learning model. At first, you are\n",
    "given only train and test sets. The validation one will be given in the end of the project for you to check\n",
    "the final performance of your algorithm (to make sure there is no overfitting over the test data).\n",
    "You can work on this project on group of one, two or three students. This exercise is mandatory, not\n",
    "giving it back is equivalent to getting to lowest grade"
   ],
   "metadata": {
    "collapsed": false
   }
  },
  {
   "cell_type": "markdown",
   "source": [
    "# Goal:\n",
    "- Train different kind of models able to classify each text according to the sentiment mainly present\n",
    "in it\n",
    "- Compare the results of your different models and try to analyze and explain the differences"
   ],
   "metadata": {
    "collapsed": false
   }
  },
  {
   "cell_type": "markdown",
   "source": [
    "# Parameters"
   ],
   "metadata": {
    "collapsed": false
   }
  },
  {
   "cell_type": "code",
   "execution_count": 2,
   "outputs": [],
   "source": [
    "data_file = './NLP_exam_emotions_dataset/train.txt'\n",
    "test_flie = './NLP_exam_emotions_dataset/test.txt'"
   ],
   "metadata": {
    "collapsed": false,
    "ExecuteTime": {
     "end_time": "2023-07-15T15:14:42.198864739Z",
     "start_time": "2023-07-15T15:14:42.197363263Z"
    }
   }
  },
  {
   "cell_type": "markdown",
   "source": [
    "# Preparing Dataset"
   ],
   "metadata": {
    "collapsed": false
   }
  },
  {
   "cell_type": "code",
   "execution_count": 3,
   "outputs": [
    {
     "data": {
      "text/plain": "(                             i didnt feel humiliated  sadness\n 0  i can go from feeling so hopeless to so damned...  sadness\n 1   im grabbing a minute to post i feel greedy wrong    anger\n 2  i am ever feeling nostalgic about the fireplac...     love\n 3                               i am feeling grouchy    anger\n 4  ive been feeling a little burdened lately wasn...  sadness,\n   im feeling rather rotten so im not very ambitious right now  sadness\n 0          im updating my blog because i feel shitty           sadness\n 1  i never make her separate from me because i do...           sadness\n 2  i left with my bouquet of red and yellow tulip...               joy\n 3    i was feeling a little vain when i did this one           sadness\n 4  i cant walk into a shop anywhere where i do no...              fear)"
     },
     "execution_count": 3,
     "metadata": {},
     "output_type": "execute_result"
    }
   ],
   "source": [
    "train_data = pd.read_csv(data_file, delimiter=';', header=0)\n",
    "test_data = pd.read_csv(test_flie, delimiter=';', header=0)\n",
    "\n",
    "train_data.head(), test_data.head()"
   ],
   "metadata": {
    "collapsed": false,
    "ExecuteTime": {
     "end_time": "2023-07-15T15:14:42.230706781Z",
     "start_time": "2023-07-15T15:14:42.200501709Z"
    }
   }
  },
  {
   "cell_type": "code",
   "execution_count": 4,
   "outputs": [
    {
     "name": "stdout",
     "output_type": "stream",
     "text": [
      "<class 'pandas.core.frame.DataFrame'>\n",
      "RangeIndex: 15999 entries, 0 to 15998\n",
      "Data columns (total 2 columns):\n",
      " #   Column                   Non-Null Count  Dtype \n",
      "---  ------                   --------------  ----- \n",
      " 0   i didnt feel humiliated  15999 non-null  object\n",
      " 1   sadness                  15999 non-null  object\n",
      "dtypes: object(2)\n",
      "memory usage: 250.1+ KB\n",
      "<class 'pandas.core.frame.DataFrame'>\n",
      "RangeIndex: 1999 entries, 0 to 1998\n",
      "Data columns (total 2 columns):\n",
      " #   Column                                                       Non-Null Count  Dtype \n",
      "---  ------                                                       --------------  ----- \n",
      " 0   im feeling rather rotten so im not very ambitious right now  1999 non-null   object\n",
      " 1   sadness                                                      1999 non-null   object\n",
      "dtypes: object(2)\n",
      "memory usage: 31.4+ KB\n"
     ]
    },
    {
     "data": {
      "text/plain": "(None, None)"
     },
     "execution_count": 4,
     "metadata": {},
     "output_type": "execute_result"
    }
   ],
   "source": [
    "train_data.info(), test_data.info()"
   ],
   "metadata": {
    "collapsed": false,
    "ExecuteTime": {
     "end_time": "2023-07-15T15:14:42.286191076Z",
     "start_time": "2023-07-15T15:14:42.229448624Z"
    }
   }
  },
  {
   "cell_type": "code",
   "execution_count": 5,
   "outputs": [],
   "source": [
    "def tokenizer(text):\n",
    "    tokenizer = Tokenizer()\n",
    "    tokenizer.fit_on_texts(text)\n",
    "    sequences = tokenizer.texts_to_sequences(text)\n",
    "    max_len = max([len(seq) for seq in sequences])\n",
    "    vocab_size = len(tokenizer.word_index) + 1\n",
    "    return pad_sequences(sequences, maxlen=max_len), max_len, vocab_size"
   ],
   "metadata": {
    "collapsed": false,
    "ExecuteTime": {
     "end_time": "2023-07-15T15:14:42.286334625Z",
     "start_time": "2023-07-15T15:14:42.281157080Z"
    }
   }
  },
  {
   "cell_type": "code",
   "execution_count": 6,
   "outputs": [],
   "source": [
    "train_x, max_len, vocab_size = tokenizer(train_data.iloc[:,0])\n",
    "test_x, _, _ = tokenizer(test_data.iloc[:,0])"
   ],
   "metadata": {
    "collapsed": false,
    "ExecuteTime": {
     "end_time": "2023-07-15T15:14:42.574320287Z",
     "start_time": "2023-07-15T15:14:42.281254441Z"
    }
   }
  },
  {
   "cell_type": "code",
   "execution_count": 7,
   "outputs": [
    {
     "data": {
      "text/plain": "(array([4, 0, 3, ..., 2, 0, 4]), array([4, 4, 2, ..., 2, 2, 1]))"
     },
     "execution_count": 7,
     "metadata": {},
     "output_type": "execute_result"
    }
   ],
   "source": [
    "label_encoder = LabelEncoder()\n",
    "train_y = label_encoder.fit_transform(train_data.iloc[:,1])\n",
    "test_y = label_encoder.transform(test_data.iloc[:,1])\n",
    "\n",
    "train_y, test_y"
   ],
   "metadata": {
    "collapsed": false,
    "ExecuteTime": {
     "end_time": "2023-07-15T15:14:42.581278783Z",
     "start_time": "2023-07-15T15:14:42.578571294Z"
    }
   }
  },
  {
   "cell_type": "markdown",
   "source": [
    "# Model"
   ],
   "metadata": {
    "collapsed": false
   }
  },
  {
   "cell_type": "code",
   "execution_count": 8,
   "outputs": [
    {
     "name": "stdout",
     "output_type": "stream",
     "text": [
      "Model: \"sequential\"\n",
      "_________________________________________________________________\n",
      " Layer (type)                Output Shape              Param #   \n",
      "=================================================================\n",
      " embedding (Embedding)       (None, 66, 100)           1521300   \n",
      "                                                                 \n",
      " conv1d (Conv1D)             (None, 62, 256)           128256    \n",
      "                                                                 \n",
      " global_max_pooling1d (Globa  (None, 256)              0         \n",
      " lMaxPooling1D)                                                  \n",
      "                                                                 \n",
      " dense (Dense)               (None, 128)               32896     \n",
      "                                                                 \n",
      " dropout (Dropout)           (None, 128)               0         \n",
      "                                                                 \n",
      " dense_1 (Dense)             (None, 8)                 1032      \n",
      "                                                                 \n",
      "=================================================================\n",
      "Total params: 1,683,484\n",
      "Trainable params: 1,683,484\n",
      "Non-trainable params: 0\n",
      "_________________________________________________________________\n"
     ]
    },
    {
     "name": "stderr",
     "output_type": "stream",
     "text": [
      "2023-07-15 17:14:42.588709: I tensorflow/core/common_runtime/process_util.cc:146] Creating new thread pool with default inter op setting: 2. Tune using inter_op_parallelism_threads for best performance.\n"
     ]
    }
   ],
   "source": [
    "model = tf.keras.models.Sequential()\n",
    "model.add(tf.keras.layers.Embedding(vocab_size, 100, input_length=max_len))\n",
    "model.add(tf.keras.layers.Conv1D(256, 5, activation='relu'))\n",
    "model.add(tf.keras.layers.GlobalMaxPooling1D())\n",
    "model.add(tf.keras.layers.Dense(128, activation='relu'))\n",
    "model.add(tf.keras.layers.Dropout(0.2))\n",
    "model.add(tf.keras.layers.Dense(8, activation='softmax'))\n",
    "\n",
    "model.summary()"
   ],
   "metadata": {
    "collapsed": false,
    "ExecuteTime": {
     "end_time": "2023-07-15T15:14:42.669896667Z",
     "start_time": "2023-07-15T15:14:42.625160089Z"
    }
   }
  },
  {
   "cell_type": "code",
   "execution_count": 9,
   "outputs": [
    {
     "name": "stdout",
     "output_type": "stream",
     "text": [
      "Epoch 1/30\n",
      "800/800 [==============================] - 21s 26ms/step - loss: 0.7826 - accuracy: 0.7056 - val_loss: 0.2179 - val_accuracy: 0.9159\n",
      "Epoch 2/30\n",
      "800/800 [==============================] - 21s 27ms/step - loss: 0.1530 - accuracy: 0.9390 - val_loss: 0.1976 - val_accuracy: 0.9216\n",
      "Epoch 3/30\n",
      "800/800 [==============================] - 21s 26ms/step - loss: 0.0841 - accuracy: 0.9666 - val_loss: 0.2194 - val_accuracy: 0.9231\n",
      "Epoch 4/30\n",
      "800/800 [==============================] - 21s 27ms/step - loss: 0.0533 - accuracy: 0.9805 - val_loss: 0.2682 - val_accuracy: 0.9184\n",
      "Epoch 5/30\n",
      "800/800 [==============================] - 21s 26ms/step - loss: 0.0327 - accuracy: 0.9880 - val_loss: 0.2906 - val_accuracy: 0.9162\n",
      "Epoch 6/30\n",
      "800/800 [==============================] - 21s 26ms/step - loss: 0.0298 - accuracy: 0.9895 - val_loss: 0.3094 - val_accuracy: 0.9197\n",
      "Epoch 7/30\n",
      "800/800 [==============================] - 21s 26ms/step - loss: 0.0171 - accuracy: 0.9949 - val_loss: 0.3877 - val_accuracy: 0.9128\n"
     ]
    }
   ],
   "source": [
    "tf.keras.backend.clear_session()\n",
    "\n",
    "early = tf.keras.callbacks.EarlyStopping(patience=5, restore_best_weights=True)\n",
    "\n",
    "model.compile(loss='sparse_categorical_crossentropy', optimizer='adam', metrics=['accuracy'])\n",
    "history = model.fit(train_x, train_y, epochs=30, batch_size=16, validation_split=0.2, callbacks=[early])"
   ],
   "metadata": {
    "collapsed": false,
    "ExecuteTime": {
     "end_time": "2023-07-15T15:17:09.890342266Z",
     "start_time": "2023-07-15T15:14:42.669484061Z"
    }
   }
  },
  {
   "cell_type": "markdown",
   "source": [
    "# Evaluation"
   ],
   "metadata": {
    "collapsed": false
   }
  },
  {
   "cell_type": "code",
   "execution_count": 10,
   "outputs": [
    {
     "name": "stdout",
     "output_type": "stream",
     "text": [
      "63/63 [==============================] - 0s 6ms/step - loss: 4.4858 - accuracy: 0.2546\n",
      "Test Loss: 4.485814094543457\n",
      "Test Accuracy: 0.2546273171901703\n"
     ]
    }
   ],
   "source": [
    "loss, accuracy = model.evaluate(test_x, test_y)\n",
    "\n",
    "print('Test Loss:', loss)\n",
    "print('Test Accuracy:', accuracy)"
   ],
   "metadata": {
    "collapsed": false,
    "ExecuteTime": {
     "end_time": "2023-07-15T15:18:05.578991115Z",
     "start_time": "2023-07-15T15:17:09.891863535Z"
    }
   }
  },
  {
   "cell_type": "code",
   "execution_count": 11,
   "outputs": [
    {
     "data": {
      "text/plain": "<Figure size 1600x1000 with 2 Axes>",
      "image/png": "[encoded data removed]"
     },
     "metadata": {},
     "output_type": "display_data"
    }
   ],
   "source": [
    "def plot_results(history):\n",
    "    hist_df = pd.DataFrame(history.history)\n",
    "    hist_df.columns = [\"loss\", \"accuracy\", \"val_loss\", \"val_accuracy\"]\n",
    "    hist_df.index = np.arange(1, len(hist_df) + 1)\n",
    "\n",
    "    fig, axs = plt.subplots(nrows=2, sharex=True, figsize=(16, 10))\n",
    "    axs[0].plot(hist_df.val_accuracy, lw=3, label='Validation Accuracy')\n",
    "    axs[0].plot(hist_df.accuracy, lw=3, label='Training Accuracy')\n",
    "    axs[0].set_ylabel('Accuracy')\n",
    "    axs[0].set_xlabel('Epoch')\n",
    "    axs[0].grid()\n",
    "    axs[0].legend(loc=0)\n",
    "    axs[1].plot(hist_df.val_loss, lw=3, label='Validation Loss')\n",
    "    axs[1].plot(hist_df.loss, lw=3, label='Training Loss')\n",
    "    axs[1].set_ylabel('Loss')\n",
    "    axs[1].set_xlabel('Epoch')\n",
    "    axs[1].grid()\n",
    "    axs[1].legend(loc=0)\n",
    "\n",
    "    plt.show();\n",
    "\n",
    "plot_results(history)"
   ],
   "metadata": {
    "collapsed": false,
    "ExecuteTime": {
     "end_time": "2023-07-15T15:18:05.940114179Z",
     "start_time": "2023-07-15T15:18:05.580808740Z"
    }
   }
  },
  {
   "cell_type": "markdown",
   "source": [
    "# Sample Test"
   ],
   "metadata": {
    "collapsed": false
   }
  },
  {
   "cell_type": "code",
   "execution_count": 12,
   "outputs": [
    {
     "name": "stdout",
     "output_type": "stream",
     "text": [
      "1/1 [==============================] - 0s 48ms/step\n",
      "Predicted class: anger\n",
      "True class: sadness\n"
     ]
    }
   ],
   "source": [
    "sample = test_data.iloc[0, 0]\n",
    "sample_test, _, _ = tokenizer([sample])  # Tokenize the sample as a list\n",
    "\n",
    "sample_test = pad_sequences(sample_test, maxlen=max_len)  # Pad the sequence to match max_len\n",
    "test_predict = model.predict(sample_test)\n",
    "prediction = np.argmax(test_predict)\n",
    "\n",
    "# After obtaining the predicted class index\n",
    "predicted_label = label_encoder.inverse_transform([prediction])[0]\n",
    "true_label = test_data.iloc[0, 1]\n",
    "\n",
    "print(\"Predicted class:\", predicted_label)\n",
    "print(\"True class:\", true_label)\n",
    "\n"
   ],
   "metadata": {
    "collapsed": false,
    "ExecuteTime": {
     "end_time": "2023-07-15T15:18:06.074779022Z",
     "start_time": "2023-07-15T15:18:05.946270903Z"
    }
   }
  },
  {
   "cell_type": "code",
   "execution_count": 12,
   "outputs": [],
   "source": [],
   "metadata": {
    "collapsed": false,
    "ExecuteTime": {
     "end_time": "2023-07-15T15:18:06.074926985Z",
     "start_time": "2023-07-15T15:18:06.033113658Z"
    }
   }
  }
 ],
 "metadata": {
  "kernelspec": {
   "display_name": "Python 3",
   "language": "python",
   "name": "python3"
  },
  "language_info": {
   "codemirror_mode": {
    "name": "ipython",
    "version": 2
   },
   "file_extension": ".py",
   "mimetype": "text/x-python",
   "name": "python",
   "nbconvert_exporter": "python",
   "pygments_lexer": "ipython2",
   "version": "2.7.6"
  }
 },
 "nbformat": 4,
 "nbformat_minor": 0
}
